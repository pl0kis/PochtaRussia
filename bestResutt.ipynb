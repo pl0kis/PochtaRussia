{
 "cells": [
  {
   "cell_type": "markdown",
   "id": "c5af4828",
   "metadata": {},
   "source": [
    "### Разработка модели предсказания потери почтовых отправлений"
   ]
  },
  {
   "cell_type": "markdown",
   "id": "9509c875",
   "metadata": {},
   "source": [
    "Библиотеки"
   ]
  },
  {
   "cell_type": "code",
   "execution_count": 1,
   "id": "a8eda11a",
   "metadata": {},
   "outputs": [],
   "source": [
    "import pandas as pd \n",
    "import numpy as np \n",
    "import seaborn as sns \n",
    "import matplotlib.pyplot as plt \n",
    "from sklearn.preprocessing import LabelEncoder\n",
    "lb = LabelEncoder()\n",
    "from IPython.core.pylabtools import figsize\n",
    "pd.set_option('display.max_column',30)"
   ]
  },
  {
   "cell_type": "code",
   "execution_count": 2,
   "id": "24a89b28",
   "metadata": {},
   "outputs": [],
   "source": [
    "df = pd.read_csv('train_dataset_train.csv',low_memory=False)"
   ]
  },
  {
   "cell_type": "code",
   "execution_count": 3,
   "id": "562f748b",
   "metadata": {},
   "outputs": [
    {
     "data": {
      "text/html": [
       "<div>\n",
       "<style scoped>\n",
       "    .dataframe tbody tr th:only-of-type {\n",
       "        vertical-align: middle;\n",
       "    }\n",
       "\n",
       "    .dataframe tbody tr th {\n",
       "        vertical-align: top;\n",
       "    }\n",
       "\n",
       "    .dataframe thead th {\n",
       "        text-align: right;\n",
       "    }\n",
       "</style>\n",
       "<table border=\"1\" class=\"dataframe\">\n",
       "  <thead>\n",
       "    <tr style=\"text-align: right;\">\n",
       "      <th></th>\n",
       "      <th>id</th>\n",
       "      <th>oper_type + oper_attr</th>\n",
       "      <th>index_oper</th>\n",
       "      <th>type</th>\n",
       "      <th>priority</th>\n",
       "      <th>is_privatecategory</th>\n",
       "      <th>class</th>\n",
       "      <th>is_in_yandex</th>\n",
       "      <th>is_return</th>\n",
       "      <th>weight</th>\n",
       "      <th>mailtype</th>\n",
       "      <th>mailctg</th>\n",
       "      <th>mailrank</th>\n",
       "      <th>directctg</th>\n",
       "      <th>transport_pay</th>\n",
       "      <th>postmark</th>\n",
       "      <th>name_mfi</th>\n",
       "      <th>weight_mfi</th>\n",
       "      <th>price_mfi</th>\n",
       "      <th>dist_qty_oper_login_1</th>\n",
       "      <th>total_qty_oper_login_1</th>\n",
       "      <th>total_qty_oper_login_0</th>\n",
       "      <th>total_qty_over_index_and_type</th>\n",
       "      <th>total_qty_over_index</th>\n",
       "      <th>is_wrong_sndr_name</th>\n",
       "      <th>is_wrong_rcpn_name</th>\n",
       "      <th>is_wrong_phone_number</th>\n",
       "      <th>is_wrong_address</th>\n",
       "      <th>label</th>\n",
       "    </tr>\n",
       "  </thead>\n",
       "  <tbody>\n",
       "    <tr>\n",
       "      <th>0</th>\n",
       "      <td>6818780</td>\n",
       "      <td>1043_-1</td>\n",
       "      <td>628629</td>\n",
       "      <td>Участок</td>\n",
       "      <td>7503.0</td>\n",
       "      <td>N</td>\n",
       "      <td>0.0</td>\n",
       "      <td>Y</td>\n",
       "      <td>N</td>\n",
       "      <td>87.0</td>\n",
       "      <td>5.0</td>\n",
       "      <td>1.0</td>\n",
       "      <td>0.0</td>\n",
       "      <td>2.0</td>\n",
       "      <td>0.00</td>\n",
       "      <td>0.0</td>\n",
       "      <td>Fishhook,USB</td>\n",
       "      <td>41.0</td>\n",
       "      <td>150.0</td>\n",
       "      <td>42.0</td>\n",
       "      <td>720176.0</td>\n",
       "      <td>58950.0</td>\n",
       "      <td>779126.0</td>\n",
       "      <td>8290896.0</td>\n",
       "      <td>0</td>\n",
       "      <td>0</td>\n",
       "      <td>0</td>\n",
       "      <td>0</td>\n",
       "      <td>0</td>\n",
       "    </tr>\n",
       "    <tr>\n",
       "      <th>1</th>\n",
       "      <td>9907176</td>\n",
       "      <td>1023_-1</td>\n",
       "      <td>102976</td>\n",
       "      <td>ММПО</td>\n",
       "      <td>7503.0</td>\n",
       "      <td>N</td>\n",
       "      <td>0.0</td>\n",
       "      <td>N</td>\n",
       "      <td>N</td>\n",
       "      <td>107.0</td>\n",
       "      <td>5.0</td>\n",
       "      <td>1.0</td>\n",
       "      <td>0.0</td>\n",
       "      <td>2.0</td>\n",
       "      <td>0.00</td>\n",
       "      <td>0.0</td>\n",
       "      <td>screen protector,Case(Q613B),case(208B40-DB)</td>\n",
       "      <td>68.0</td>\n",
       "      <td>400.0</td>\n",
       "      <td>914.0</td>\n",
       "      <td>48856658.0</td>\n",
       "      <td>83318932.0</td>\n",
       "      <td>132175590.0</td>\n",
       "      <td>136819803.0</td>\n",
       "      <td>0</td>\n",
       "      <td>0</td>\n",
       "      <td>0</td>\n",
       "      <td>0</td>\n",
       "      <td>0</td>\n",
       "    </tr>\n",
       "    <tr>\n",
       "      <th>2</th>\n",
       "      <td>3304275</td>\n",
       "      <td>1018_-1</td>\n",
       "      <td>620962</td>\n",
       "      <td>Цех</td>\n",
       "      <td>7503.0</td>\n",
       "      <td>N</td>\n",
       "      <td>0.0</td>\n",
       "      <td>Y</td>\n",
       "      <td>N</td>\n",
       "      <td>50.0</td>\n",
       "      <td>5.0</td>\n",
       "      <td>1.0</td>\n",
       "      <td>0.0</td>\n",
       "      <td>2.0</td>\n",
       "      <td>0.00</td>\n",
       "      <td>0.0</td>\n",
       "      <td>Pendant Necklaces,Rings for Women,Necklaces</td>\n",
       "      <td>56.0</td>\n",
       "      <td>218.0</td>\n",
       "      <td>62.0</td>\n",
       "      <td>3246292.0</td>\n",
       "      <td>3233068.0</td>\n",
       "      <td>6479360.0</td>\n",
       "      <td>52708071.0</td>\n",
       "      <td>0</td>\n",
       "      <td>1</td>\n",
       "      <td>0</td>\n",
       "      <td>0</td>\n",
       "      <td>0</td>\n",
       "    </tr>\n",
       "    <tr>\n",
       "      <th>3</th>\n",
       "      <td>9020937</td>\n",
       "      <td>1019_-1</td>\n",
       "      <td>344964</td>\n",
       "      <td>Цех</td>\n",
       "      <td>7503.0</td>\n",
       "      <td>N</td>\n",
       "      <td>0.0</td>\n",
       "      <td>Y</td>\n",
       "      <td>N</td>\n",
       "      <td>416.0</td>\n",
       "      <td>5.0</td>\n",
       "      <td>1.0</td>\n",
       "      <td>0.0</td>\n",
       "      <td>2.0</td>\n",
       "      <td>35.34</td>\n",
       "      <td>0.0</td>\n",
       "      <td>Motorcycle Signal Lamp</td>\n",
       "      <td>33.0</td>\n",
       "      <td>100.0</td>\n",
       "      <td>55.0</td>\n",
       "      <td>2060928.0</td>\n",
       "      <td>653280.0</td>\n",
       "      <td>2714208.0</td>\n",
       "      <td>19562334.0</td>\n",
       "      <td>0</td>\n",
       "      <td>0</td>\n",
       "      <td>0</td>\n",
       "      <td>0</td>\n",
       "      <td>0</td>\n",
       "    </tr>\n",
       "    <tr>\n",
       "      <th>4</th>\n",
       "      <td>3082311</td>\n",
       "      <td>1020_-1</td>\n",
       "      <td>629819</td>\n",
       "      <td>Участок</td>\n",
       "      <td>7503.0</td>\n",
       "      <td>N</td>\n",
       "      <td>0.0</td>\n",
       "      <td>Y</td>\n",
       "      <td>N</td>\n",
       "      <td>795.0</td>\n",
       "      <td>5.0</td>\n",
       "      <td>1.0</td>\n",
       "      <td>0.0</td>\n",
       "      <td>2.0</td>\n",
       "      <td>52.52</td>\n",
       "      <td>0.0</td>\n",
       "      <td>backpack</td>\n",
       "      <td>716.0</td>\n",
       "      <td>1000.0</td>\n",
       "      <td>16.0</td>\n",
       "      <td>316919.0</td>\n",
       "      <td>27911.0</td>\n",
       "      <td>344830.0</td>\n",
       "      <td>4719186.0</td>\n",
       "      <td>0</td>\n",
       "      <td>0</td>\n",
       "      <td>0</td>\n",
       "      <td>0</td>\n",
       "      <td>0</td>\n",
       "    </tr>\n",
       "    <tr>\n",
       "      <th>...</th>\n",
       "      <td>...</td>\n",
       "      <td>...</td>\n",
       "      <td>...</td>\n",
       "      <td>...</td>\n",
       "      <td>...</td>\n",
       "      <td>...</td>\n",
       "      <td>...</td>\n",
       "      <td>...</td>\n",
       "      <td>...</td>\n",
       "      <td>...</td>\n",
       "      <td>...</td>\n",
       "      <td>...</td>\n",
       "      <td>...</td>\n",
       "      <td>...</td>\n",
       "      <td>...</td>\n",
       "      <td>...</td>\n",
       "      <td>...</td>\n",
       "      <td>...</td>\n",
       "      <td>...</td>\n",
       "      <td>...</td>\n",
       "      <td>...</td>\n",
       "      <td>...</td>\n",
       "      <td>...</td>\n",
       "      <td>...</td>\n",
       "      <td>...</td>\n",
       "      <td>...</td>\n",
       "      <td>...</td>\n",
       "      <td>...</td>\n",
       "      <td>...</td>\n",
       "    </tr>\n",
       "    <tr>\n",
       "      <th>5999995</th>\n",
       "      <td>9958614</td>\n",
       "      <td>1022_-1</td>\n",
       "      <td>102976</td>\n",
       "      <td>ММПО</td>\n",
       "      <td>7503.0</td>\n",
       "      <td>N</td>\n",
       "      <td>0.0</td>\n",
       "      <td>N</td>\n",
       "      <td>N</td>\n",
       "      <td>25.0</td>\n",
       "      <td>5.0</td>\n",
       "      <td>0.0</td>\n",
       "      <td>0.0</td>\n",
       "      <td>2.0</td>\n",
       "      <td>0.00</td>\n",
       "      <td>0.0</td>\n",
       "      <td>KEY CHAIN</td>\n",
       "      <td>24.0</td>\n",
       "      <td>100.0</td>\n",
       "      <td>1089.0</td>\n",
       "      <td>64270133.0</td>\n",
       "      <td>116432632.0</td>\n",
       "      <td>180702765.0</td>\n",
       "      <td>188407812.0</td>\n",
       "      <td>0</td>\n",
       "      <td>0</td>\n",
       "      <td>1</td>\n",
       "      <td>0</td>\n",
       "      <td>0</td>\n",
       "    </tr>\n",
       "    <tr>\n",
       "      <th>5999996</th>\n",
       "      <td>2234489</td>\n",
       "      <td>1022_-1</td>\n",
       "      <td>241963</td>\n",
       "      <td>Цех</td>\n",
       "      <td>7503.0</td>\n",
       "      <td>N</td>\n",
       "      <td>0.0</td>\n",
       "      <td>Y</td>\n",
       "      <td>N</td>\n",
       "      <td>83.0</td>\n",
       "      <td>5.0</td>\n",
       "      <td>1.0</td>\n",
       "      <td>0.0</td>\n",
       "      <td>2.0</td>\n",
       "      <td>0.00</td>\n",
       "      <td>0.0</td>\n",
       "      <td>Dolls</td>\n",
       "      <td>100.0</td>\n",
       "      <td>1832.0</td>\n",
       "      <td>31.0</td>\n",
       "      <td>1767370.0</td>\n",
       "      <td>144063.0</td>\n",
       "      <td>1911433.0</td>\n",
       "      <td>15582018.0</td>\n",
       "      <td>0</td>\n",
       "      <td>0</td>\n",
       "      <td>0</td>\n",
       "      <td>0</td>\n",
       "      <td>0</td>\n",
       "    </tr>\n",
       "    <tr>\n",
       "      <th>5999997</th>\n",
       "      <td>4304572</td>\n",
       "      <td>1041_-1</td>\n",
       "      <td>102971</td>\n",
       "      <td>Цех</td>\n",
       "      <td>7506.0</td>\n",
       "      <td>N</td>\n",
       "      <td>0.0</td>\n",
       "      <td>N</td>\n",
       "      <td>N</td>\n",
       "      <td>1700.0</td>\n",
       "      <td>5.0</td>\n",
       "      <td>1.0</td>\n",
       "      <td>0.0</td>\n",
       "      <td>2.0</td>\n",
       "      <td>94.09</td>\n",
       "      <td>0.0</td>\n",
       "      <td>Down jacket</td>\n",
       "      <td>952.0</td>\n",
       "      <td>800.0</td>\n",
       "      <td>186.0</td>\n",
       "      <td>60613352.0</td>\n",
       "      <td>10648.0</td>\n",
       "      <td>60624000.0</td>\n",
       "      <td>75592387.0</td>\n",
       "      <td>0</td>\n",
       "      <td>0</td>\n",
       "      <td>0</td>\n",
       "      <td>0</td>\n",
       "      <td>0</td>\n",
       "    </tr>\n",
       "    <tr>\n",
       "      <th>5999998</th>\n",
       "      <td>6550634</td>\n",
       "      <td>1018_-1</td>\n",
       "      <td>102152</td>\n",
       "      <td>Цех</td>\n",
       "      <td>7506.0</td>\n",
       "      <td>N</td>\n",
       "      <td>0.0</td>\n",
       "      <td>N</td>\n",
       "      <td>N</td>\n",
       "      <td>269.0</td>\n",
       "      <td>5.0</td>\n",
       "      <td>1.0</td>\n",
       "      <td>0.0</td>\n",
       "      <td>2.0</td>\n",
       "      <td>0.00</td>\n",
       "      <td>0.0</td>\n",
       "      <td>0</td>\n",
       "      <td>0.0</td>\n",
       "      <td>0.0</td>\n",
       "      <td>105.0</td>\n",
       "      <td>15091338.0</td>\n",
       "      <td>4972424.0</td>\n",
       "      <td>20063762.0</td>\n",
       "      <td>39988530.0</td>\n",
       "      <td>0</td>\n",
       "      <td>1</td>\n",
       "      <td>0</td>\n",
       "      <td>0</td>\n",
       "      <td>0</td>\n",
       "    </tr>\n",
       "    <tr>\n",
       "      <th>5999999</th>\n",
       "      <td>6423388</td>\n",
       "      <td>8_2</td>\n",
       "      <td>140531</td>\n",
       "      <td>СОПС</td>\n",
       "      <td>7503.0</td>\n",
       "      <td>N</td>\n",
       "      <td>4.0</td>\n",
       "      <td>Y</td>\n",
       "      <td>N</td>\n",
       "      <td>41.0</td>\n",
       "      <td>5.0</td>\n",
       "      <td>1.0</td>\n",
       "      <td>0.0</td>\n",
       "      <td>2.0</td>\n",
       "      <td>0.00</td>\n",
       "      <td>0.0</td>\n",
       "      <td>Jewelry Beads,Jewelry Components</td>\n",
       "      <td>40.0</td>\n",
       "      <td>400.0</td>\n",
       "      <td>1.0</td>\n",
       "      <td>1541.0</td>\n",
       "      <td>353.0</td>\n",
       "      <td>1894.0</td>\n",
       "      <td>17238.0</td>\n",
       "      <td>0</td>\n",
       "      <td>0</td>\n",
       "      <td>0</td>\n",
       "      <td>0</td>\n",
       "      <td>0</td>\n",
       "    </tr>\n",
       "  </tbody>\n",
       "</table>\n",
       "<p>6000000 rows × 29 columns</p>\n",
       "</div>"
      ],
      "text/plain": [
       "              id oper_type + oper_attr index_oper     type  priority  \\\n",
       "0        6818780               1043_-1     628629  Участок    7503.0   \n",
       "1        9907176               1023_-1     102976     ММПО    7503.0   \n",
       "2        3304275               1018_-1     620962      Цех    7503.0   \n",
       "3        9020937               1019_-1     344964      Цех    7503.0   \n",
       "4        3082311               1020_-1     629819  Участок    7503.0   \n",
       "...          ...                   ...        ...      ...       ...   \n",
       "5999995  9958614               1022_-1     102976     ММПО    7503.0   \n",
       "5999996  2234489               1022_-1     241963      Цех    7503.0   \n",
       "5999997  4304572               1041_-1     102971      Цех    7506.0   \n",
       "5999998  6550634               1018_-1     102152      Цех    7506.0   \n",
       "5999999  6423388                   8_2     140531     СОПС    7503.0   \n",
       "\n",
       "        is_privatecategory  class is_in_yandex is_return  weight  mailtype  \\\n",
       "0                        N    0.0            Y         N    87.0       5.0   \n",
       "1                        N    0.0            N         N   107.0       5.0   \n",
       "2                        N    0.0            Y         N    50.0       5.0   \n",
       "3                        N    0.0            Y         N   416.0       5.0   \n",
       "4                        N    0.0            Y         N   795.0       5.0   \n",
       "...                    ...    ...          ...       ...     ...       ...   \n",
       "5999995                  N    0.0            N         N    25.0       5.0   \n",
       "5999996                  N    0.0            Y         N    83.0       5.0   \n",
       "5999997                  N    0.0            N         N  1700.0       5.0   \n",
       "5999998                  N    0.0            N         N   269.0       5.0   \n",
       "5999999                  N    4.0            Y         N    41.0       5.0   \n",
       "\n",
       "         mailctg  mailrank  directctg  transport_pay  postmark  \\\n",
       "0            1.0       0.0        2.0           0.00       0.0   \n",
       "1            1.0       0.0        2.0           0.00       0.0   \n",
       "2            1.0       0.0        2.0           0.00       0.0   \n",
       "3            1.0       0.0        2.0          35.34       0.0   \n",
       "4            1.0       0.0        2.0          52.52       0.0   \n",
       "...          ...       ...        ...            ...       ...   \n",
       "5999995      0.0       0.0        2.0           0.00       0.0   \n",
       "5999996      1.0       0.0        2.0           0.00       0.0   \n",
       "5999997      1.0       0.0        2.0          94.09       0.0   \n",
       "5999998      1.0       0.0        2.0           0.00       0.0   \n",
       "5999999      1.0       0.0        2.0           0.00       0.0   \n",
       "\n",
       "                                             name_mfi  weight_mfi  price_mfi  \\\n",
       "0                                        Fishhook,USB        41.0      150.0   \n",
       "1        screen protector,Case(Q613B),case(208B40-DB)        68.0      400.0   \n",
       "2         Pendant Necklaces,Rings for Women,Necklaces        56.0      218.0   \n",
       "3                              Motorcycle Signal Lamp        33.0      100.0   \n",
       "4                                            backpack       716.0     1000.0   \n",
       "...                                               ...         ...        ...   \n",
       "5999995                                     KEY CHAIN        24.0      100.0   \n",
       "5999996                                         Dolls       100.0     1832.0   \n",
       "5999997                                   Down jacket       952.0      800.0   \n",
       "5999998                                             0         0.0        0.0   \n",
       "5999999              Jewelry Beads,Jewelry Components        40.0      400.0   \n",
       "\n",
       "         dist_qty_oper_login_1  total_qty_oper_login_1  \\\n",
       "0                         42.0                720176.0   \n",
       "1                        914.0              48856658.0   \n",
       "2                         62.0               3246292.0   \n",
       "3                         55.0               2060928.0   \n",
       "4                         16.0                316919.0   \n",
       "...                        ...                     ...   \n",
       "5999995                 1089.0              64270133.0   \n",
       "5999996                   31.0               1767370.0   \n",
       "5999997                  186.0              60613352.0   \n",
       "5999998                  105.0              15091338.0   \n",
       "5999999                    1.0                  1541.0   \n",
       "\n",
       "         total_qty_oper_login_0  total_qty_over_index_and_type  \\\n",
       "0                       58950.0                       779126.0   \n",
       "1                    83318932.0                    132175590.0   \n",
       "2                     3233068.0                      6479360.0   \n",
       "3                      653280.0                      2714208.0   \n",
       "4                       27911.0                       344830.0   \n",
       "...                         ...                            ...   \n",
       "5999995             116432632.0                    180702765.0   \n",
       "5999996                144063.0                      1911433.0   \n",
       "5999997                 10648.0                     60624000.0   \n",
       "5999998               4972424.0                     20063762.0   \n",
       "5999999                   353.0                         1894.0   \n",
       "\n",
       "         total_qty_over_index  is_wrong_sndr_name  is_wrong_rcpn_name  \\\n",
       "0                   8290896.0                   0                   0   \n",
       "1                 136819803.0                   0                   0   \n",
       "2                  52708071.0                   0                   1   \n",
       "3                  19562334.0                   0                   0   \n",
       "4                   4719186.0                   0                   0   \n",
       "...                       ...                 ...                 ...   \n",
       "5999995           188407812.0                   0                   0   \n",
       "5999996            15582018.0                   0                   0   \n",
       "5999997            75592387.0                   0                   0   \n",
       "5999998            39988530.0                   0                   1   \n",
       "5999999               17238.0                   0                   0   \n",
       "\n",
       "         is_wrong_phone_number  is_wrong_address  label  \n",
       "0                            0                 0      0  \n",
       "1                            0                 0      0  \n",
       "2                            0                 0      0  \n",
       "3                            0                 0      0  \n",
       "4                            0                 0      0  \n",
       "...                        ...               ...    ...  \n",
       "5999995                      1                 0      0  \n",
       "5999996                      0                 0      0  \n",
       "5999997                      0                 0      0  \n",
       "5999998                      0                 0      0  \n",
       "5999999                      0                 0      0  \n",
       "\n",
       "[6000000 rows x 29 columns]"
      ]
     },
     "execution_count": 3,
     "metadata": {},
     "output_type": "execute_result"
    }
   ],
   "source": [
    "df"
   ]
  },
  {
   "cell_type": "code",
   "execution_count": 4,
   "id": "7b3afc52",
   "metadata": {
    "scrolled": false
   },
   "outputs": [
    {
     "name": "stdout",
     "output_type": "stream",
     "text": [
      "<class 'pandas.core.frame.DataFrame'>\n",
      "RangeIndex: 6000000 entries, 0 to 5999999\n",
      "Data columns (total 29 columns):\n",
      " #   Column                         Dtype  \n",
      "---  ------                         -----  \n",
      " 0   id                             int64  \n",
      " 1   oper_type + oper_attr          object \n",
      " 2   index_oper                     object \n",
      " 3   type                           object \n",
      " 4   priority                       float64\n",
      " 5   is_privatecategory             object \n",
      " 6   class                          float64\n",
      " 7   is_in_yandex                   object \n",
      " 8   is_return                      object \n",
      " 9   weight                         float64\n",
      " 10  mailtype                       float64\n",
      " 11  mailctg                        float64\n",
      " 12  mailrank                       float64\n",
      " 13  directctg                      float64\n",
      " 14  transport_pay                  float64\n",
      " 15  postmark                       float64\n",
      " 16  name_mfi                       object \n",
      " 17  weight_mfi                     float64\n",
      " 18  price_mfi                      float64\n",
      " 19  dist_qty_oper_login_1          float64\n",
      " 20  total_qty_oper_login_1         float64\n",
      " 21  total_qty_oper_login_0         float64\n",
      " 22  total_qty_over_index_and_type  float64\n",
      " 23  total_qty_over_index           float64\n",
      " 24  is_wrong_sndr_name             int64  \n",
      " 25  is_wrong_rcpn_name             int64  \n",
      " 26  is_wrong_phone_number          int64  \n",
      " 27  is_wrong_address               int64  \n",
      " 28  label                          int64  \n",
      "dtypes: float64(16), int64(6), object(7)\n",
      "memory usage: 1.3+ GB\n"
     ]
    }
   ],
   "source": [
    "df.info()"
   ]
  },
  {
   "cell_type": "markdown",
   "id": "61fdd701",
   "metadata": {},
   "source": [
    "- 16 столбцов типа float64\n",
    "- 6 столбцов тип int64\n",
    "- 7 столбцов типа object"
   ]
  },
  {
   "cell_type": "code",
   "execution_count": 5,
   "id": "a46c7bb6",
   "metadata": {},
   "outputs": [
    {
     "data": {
      "text/plain": [
       "Index(['id', 'oper_type + oper_attr', 'index_oper', 'type', 'priority',\n",
       "       'is_privatecategory', 'class', 'is_in_yandex', 'is_return', 'weight',\n",
       "       'mailtype', 'mailctg', 'mailrank', 'directctg', 'transport_pay',\n",
       "       'postmark', 'name_mfi', 'weight_mfi', 'price_mfi',\n",
       "       'dist_qty_oper_login_1', 'total_qty_oper_login_1',\n",
       "       'total_qty_oper_login_0', 'total_qty_over_index_and_type',\n",
       "       'total_qty_over_index', 'is_wrong_sndr_name', 'is_wrong_rcpn_name',\n",
       "       'is_wrong_phone_number', 'is_wrong_address', 'label'],\n",
       "      dtype='object')"
      ]
     },
     "execution_count": 5,
     "metadata": {},
     "output_type": "execute_result"
    }
   ],
   "source": [
    "df.columns"
   ]
  },
  {
   "attachments": {
    "image-2.png": {
     "image/png": "[encoded data removed]"
    },
    "image.png": {
     "image/png": "[encoded data removed]"
    }
   },
   "cell_type": "markdown",
   "id": "d41dfcc2",
   "metadata": {},
   "source": [
    "Расшифровка полей\n",
    "![image.png](attachment:image.png)\n",
    "![image-2.png](attachment:image-2.png)"
   ]
  },
  {
   "cell_type": "code",
   "execution_count": 6,
   "id": "5e8d83ed",
   "metadata": {},
   "outputs": [
    {
     "name": "stdout",
     "output_type": "stream",
     "text": [
      "id                               0.0\n",
      "oper_type + oper_attr            0.0\n",
      "index_oper                       0.0\n",
      "type                             0.0\n",
      "priority                         0.0\n",
      "is_privatecategory               0.0\n",
      "class                            0.0\n",
      "is_in_yandex                     0.0\n",
      "is_return                        0.0\n",
      "weight                           0.0\n",
      "mailtype                         0.0\n",
      "mailctg                          0.0\n",
      "mailrank                         0.0\n",
      "directctg                        0.0\n",
      "transport_pay                    0.0\n",
      "postmark                         0.0\n",
      "name_mfi                         0.0\n",
      "weight_mfi                       0.0\n",
      "price_mfi                        0.0\n",
      "dist_qty_oper_login_1            0.0\n",
      "total_qty_oper_login_1           0.0\n",
      "total_qty_oper_login_0           0.0\n",
      "total_qty_over_index_and_type    0.0\n",
      "total_qty_over_index             0.0\n",
      "is_wrong_sndr_name               0.0\n",
      "is_wrong_rcpn_name               0.0\n",
      "is_wrong_phone_number            0.0\n",
      "is_wrong_address                 0.0\n",
      "label                            0.0\n",
      "dtype: float64\n"
     ]
    }
   ],
   "source": [
    "print(df.isna().sum()/len(df)*100)"
   ]
  },
  {
   "cell_type": "markdown",
   "id": "4606b719",
   "metadata": {},
   "source": [
    "Пропусков нет "
   ]
  },
  {
   "cell_type": "markdown",
   "id": "d5b2049e",
   "metadata": {},
   "source": [
    "#### Посмотрим столбы типа object"
   ]
  },
  {
   "cell_type": "markdown",
   "id": "e99aadcd",
   "metadata": {},
   "source": [
    "###### Столбец oper_type + oper_attr ( Тип и артибут операции )"
   ]
  },
  {
   "cell_type": "code",
   "execution_count": 7,
   "id": "fd0911bd",
   "metadata": {},
   "outputs": [
    {
     "data": {
      "text/plain": [
       "array(['1043_-1', '1023_-1', '1018_-1', '1019_-1', '1020_-1', '1001_-1',\n",
       "       '8_13', '1_-1', '1022_-1', '8_0', '8_3', '1041_-1', '1016_-1',\n",
       "       '11_-1', '8_2', '8_6', '183_-1', '1042_-1', '9_-1', '1004_-1',\n",
       "       '14_1', '1014_-1', '26_-1', '1044_-1', '29_-1', '0_-1', '184_-1',\n",
       "       '185_-1', '39_-1', '2_1', '131_-1', '12_9', '41_-1', '2_6',\n",
       "       '14_10', '12_1', '1026_-1', '1015_-1', '154_-1', '1025_-1',\n",
       "       '1017_-1', '1012_-1', '8_5', '12_8', '8_4', '8_20', '1021_-1',\n",
       "       '4_3', '14_1001', '14_18', '1027_-1', '6_3', '1017_1001', '114_-1',\n",
       "       '1045_-1', '3_1', '14_21', '1017_1000', '30_-1', '1005_-1', '4_1',\n",
       "       '184_1', '14_20', '8_182', '2_8', '11_0', '104_-1', '183_1',\n",
       "       '41_4', '12_11', '20_-1', '15_-1', '41_1', '14_16', '12_2',\n",
       "       '1013_-1', '12_10', '1002_-1', '3_9', '8_1', '12_4', '1003_-1',\n",
       "       '2_10', '6_1', '4_2', '14_6', '14_17', '8_22', '2_11', '10_-1',\n",
       "       '8_18', '41_3', '12_6', '3_10', '34_-1', '2_2', '6_5', '5_3',\n",
       "       '24_-1', '5_1', '8_15', '8_21', '8_51', '14_19', '128_-1', '12_7',\n",
       "       '192_-1', '14_1002', '1009_-1'], dtype=object)"
      ]
     },
     "execution_count": 7,
     "metadata": {},
     "output_type": "execute_result"
    }
   ],
   "source": [
    "df['oper_type + oper_attr'].unique()"
   ]
  },
  {
   "cell_type": "code",
   "execution_count": 8,
   "id": "4d034453",
   "metadata": {},
   "outputs": [
    {
     "data": {
      "text/plain": [
       "1020_-1    693154\n",
       "1022_-1    656597\n",
       "1019_-1    413710\n",
       "8_0        402877\n",
       "1_-1       359402\n",
       "            ...  \n",
       "5_3             1\n",
       "1009_-1         1\n",
       "2_10            1\n",
       "128_-1          1\n",
       "34_-1           1\n",
       "Name: oper_type + oper_attr, Length: 109, dtype: int64"
      ]
     },
     "execution_count": 8,
     "metadata": {},
     "output_type": "execute_result"
    }
   ],
   "source": [
    "df['oper_type + oper_attr'].value_counts()"
   ]
  },
  {
   "cell_type": "markdown",
   "id": "8eaeb46f",
   "metadata": {},
   "source": [
    "Закодируем этот столбец с помощью LabelEncoder"
   ]
  },
  {
   "cell_type": "code",
   "execution_count": 9,
   "id": "a7101620",
   "metadata": {},
   "outputs": [],
   "source": [
    "df['oper_type + oper_attr'] = lb.fit_transform(df['oper_type + oper_attr'])"
   ]
  },
  {
   "cell_type": "code",
   "execution_count": 10,
   "id": "4d324b88",
   "metadata": {},
   "outputs": [
    {
     "data": {
      "text/plain": [
       "array([ 26,  20,  15,  16,  17,   1,  95,  64,  19,  93, 103,  24,  11,\n",
       "        32,  99, 107,  58,  25, 108,   4,  45,   9,  67,  27,  68,   0,\n",
       "        60,  62,  77,  69,  44,  43,  81,  73,  46,  35,  22,  10,  56,\n",
       "        21,  12,   7, 105,  42, 104, 100,  18,  87,  47,  51,  23,  91,\n",
       "        14,  31,  28,  78,  54,  13,  75,   5,  85,  61,  53,  98,  74,\n",
       "        33,  29,  59,  84,  37,  65,  57,  82,  49,  38,   8,  36,   2,\n",
       "        80,  94,  39,   3,  70,  90,  86,  55,  50, 102,  71,  30,  97,\n",
       "        83,  40,  79,  76,  72,  92,  89,  66,  88,  96, 101, 106,  52,\n",
       "        34,  41,  63,  48,   6])"
      ]
     },
     "execution_count": 10,
     "metadata": {},
     "output_type": "execute_result"
    }
   ],
   "source": [
    "df['oper_type + oper_attr'].unique()"
   ]
  },
  {
   "cell_type": "markdown",
   "id": "41a0b7f6",
   "metadata": {},
   "source": [
    "##### столбец index_oper ( Индекс места операции )"
   ]
  },
  {
   "cell_type": "code",
   "execution_count": 11,
   "id": "d5f2385e",
   "metadata": {},
   "outputs": [
    {
     "data": {
      "text/plain": [
       "array(['628629', '102976', '620962', ..., '164559', '452593', '422418'],\n",
       "      dtype=object)"
      ]
     },
     "execution_count": 11,
     "metadata": {},
     "output_type": "execute_result"
    }
   ],
   "source": [
    "df.index_oper.unique()"
   ]
  },
  {
   "cell_type": "code",
   "execution_count": 12,
   "id": "0cee71ef",
   "metadata": {},
   "outputs": [
    {
     "data": {
      "text/plain": [
       "102976    1591425\n",
       "102971     809023\n",
       "620984     136389\n",
       "102998     107961\n",
       "102968      98751\n",
       "           ...   \n",
       "692085          1\n",
       "393610          1\n",
       "354389          1\n",
       "181623          1\n",
       "445556          1\n",
       "Name: index_oper, Length: 22159, dtype: int64"
      ]
     },
     "execution_count": 12,
     "metadata": {},
     "output_type": "execute_result"
    }
   ],
   "source": [
    "df.index_oper.value_counts()"
   ]
  },
  {
   "cell_type": "markdown",
   "id": "488845bd",
   "metadata": {},
   "source": [
    "Закодируем с помощью LabelEncoder"
   ]
  },
  {
   "cell_type": "code",
   "execution_count": 13,
   "id": "e8c4cb53",
   "metadata": {},
   "outputs": [],
   "source": [
    "df.index_oper = lb.fit_transform(df.index_oper)"
   ]
  },
  {
   "cell_type": "code",
   "execution_count": 14,
   "id": "dd1b8a19",
   "metadata": {},
   "outputs": [
    {
     "data": {
      "text/plain": [
       "array([17235,    23, 16331, ...,  2419, 13724, 11539])"
      ]
     },
     "execution_count": 14,
     "metadata": {},
     "output_type": "execute_result"
    }
   ],
   "source": [
    "df.index_oper.unique()"
   ]
  },
  {
   "cell_type": "markdown",
   "id": "48801990",
   "metadata": {},
   "source": [
    "###### Столбец type ( Обозначение типа объекта почтовой связи )"
   ]
  },
  {
   "cell_type": "code",
   "execution_count": 15,
   "id": "8279f765",
   "metadata": {},
   "outputs": [
    {
     "data": {
      "text/plain": [
       "array(['Участок', 'ММПО', 'Цех', 'П', 'ТИ', 'ГОПС', 'МСЦ', 'СОПС', 'АО',\n",
       "       'МРП', 'СЦ', 'МСО', 'ОПП', 'АОПП', 'ПЕРЕДВИЖНОЕ ОС', 'ОП', '0',\n",
       "       'ППС', 'УМСЦ', 'УКД'], dtype=object)"
      ]
     },
     "execution_count": 15,
     "metadata": {},
     "output_type": "execute_result"
    }
   ],
   "source": [
    "df.type.unique()"
   ]
  },
  {
   "cell_type": "code",
   "execution_count": 16,
   "id": "376d3474",
   "metadata": {},
   "outputs": [
    {
     "data": {
      "text/plain": [
       "Цех               2093668\n",
       "ММПО              1614974\n",
       "Участок            926631\n",
       "ГОПС               463750\n",
       "ТИ                 305490\n",
       "П                  245814\n",
       "МСЦ                223241\n",
       "СОПС                72161\n",
       "СЦ                  12469\n",
       "ОП                   9527\n",
       "МСО                  7465\n",
       "ОПП                  7190\n",
       "АОПП                 6682\n",
       "МРП                  3850\n",
       "0                    3444\n",
       "АО                   1304\n",
       "ПЕРЕДВИЖНОЕ ОС       1006\n",
       "ППС                   682\n",
       "УМСЦ                  569\n",
       "УКД                    83\n",
       "Name: type, dtype: int64"
      ]
     },
     "execution_count": 16,
     "metadata": {},
     "output_type": "execute_result"
    }
   ],
   "source": [
    "df.type.value_counts()"
   ]
  },
  {
   "cell_type": "markdown",
   "id": "22bc4274",
   "metadata": {},
   "source": [
    "Закодируем с помощью LabelEncoder"
   ]
  },
  {
   "cell_type": "code",
   "execution_count": 17,
   "id": "cf627b68",
   "metadata": {},
   "outputs": [],
   "source": [
    "df.type = lb.fit_transform(df.type)"
   ]
  },
  {
   "cell_type": "code",
   "execution_count": 18,
   "id": "cba4d046",
   "metadata": {},
   "outputs": [
    {
     "data": {
      "text/plain": [
       "array([18,  4, 19, 10, 15,  3,  7, 13,  1,  5, 14,  6,  9,  2, 11,  8,  0,\n",
       "       12, 17, 16])"
      ]
     },
     "execution_count": 18,
     "metadata": {},
     "output_type": "execute_result"
    }
   ],
   "source": [
    "df.type.unique()"
   ]
  },
  {
   "cell_type": "markdown",
   "id": "c0a3ade2",
   "metadata": {},
   "source": [
    "#### Столбец is_privatecategory ( Y - является отделением закрытого типа N - иначе )"
   ]
  },
  {
   "cell_type": "code",
   "execution_count": 19,
   "id": "da129719",
   "metadata": {},
   "outputs": [
    {
     "data": {
      "text/plain": [
       "array(['N', 'Y', '0'], dtype=object)"
      ]
     },
     "execution_count": 19,
     "metadata": {},
     "output_type": "execute_result"
    }
   ],
   "source": [
    "df.is_privatecategory.unique()"
   ]
  },
  {
   "cell_type": "code",
   "execution_count": 20,
   "id": "4a41ffe7",
   "metadata": {},
   "outputs": [
    {
     "data": {
      "text/plain": [
       "N    5994524\n",
       "Y       2806\n",
       "0       2670\n",
       "Name: is_privatecategory, dtype: int64"
      ]
     },
     "execution_count": 20,
     "metadata": {},
     "output_type": "execute_result"
    }
   ],
   "source": [
    "df.is_privatecategory.value_counts()"
   ]
  },
  {
   "cell_type": "markdown",
   "id": "cb27ba5e",
   "metadata": {},
   "source": [
    "Закодируем с помощью словаря "
   ]
  },
  {
   "cell_type": "code",
   "execution_count": 21,
   "id": "9df1e577",
   "metadata": {},
   "outputs": [],
   "source": [
    "dictIs_privatecategory = {'0':0,'Y':2,'N':1}\n",
    "df.is_privatecategory = df.is_privatecategory.map(dictIs_privatecategory)"
   ]
  },
  {
   "cell_type": "code",
   "execution_count": 22,
   "id": "20c4094b",
   "metadata": {},
   "outputs": [
    {
     "data": {
      "text/plain": [
       "array([1, 2, 0], dtype=int64)"
      ]
     },
     "execution_count": 22,
     "metadata": {},
     "output_type": "execute_result"
    }
   ],
   "source": [
    "df.is_privatecategory.unique()"
   ]
  },
  {
   "cell_type": "markdown",
   "id": "d9bf6c2e",
   "metadata": {},
   "source": [
    "##### Столбец is_in_yandex ( Y - адрес отделения связи отображается в Яндекс-картах N - иначе )"
   ]
  },
  {
   "cell_type": "code",
   "execution_count": 23,
   "id": "17bba665",
   "metadata": {},
   "outputs": [
    {
     "data": {
      "text/plain": [
       "array(['Y', 'N', '0'], dtype=object)"
      ]
     },
     "execution_count": 23,
     "metadata": {},
     "output_type": "execute_result"
    }
   ],
   "source": [
    "df.is_in_yandex.unique()"
   ]
  },
  {
   "cell_type": "code",
   "execution_count": 24,
   "id": "b744c998",
   "metadata": {},
   "outputs": [
    {
     "data": {
      "text/plain": [
       "N    3585956\n",
       "Y    2411374\n",
       "0       2670\n",
       "Name: is_in_yandex, dtype: int64"
      ]
     },
     "execution_count": 24,
     "metadata": {},
     "output_type": "execute_result"
    }
   ],
   "source": [
    "df.is_in_yandex.value_counts()"
   ]
  },
  {
   "cell_type": "markdown",
   "id": "5e246c27",
   "metadata": {},
   "source": [
    "Кодировать будем с помощью словаря выше"
   ]
  },
  {
   "cell_type": "code",
   "execution_count": 25,
   "id": "52d71e03",
   "metadata": {},
   "outputs": [],
   "source": [
    "df.is_in_yandex = df.is_in_yandex.map(dictIs_privatecategory)"
   ]
  },
  {
   "cell_type": "code",
   "execution_count": 26,
   "id": "e32e2e4b",
   "metadata": {},
   "outputs": [
    {
     "data": {
      "text/plain": [
       "array([2, 1, 0], dtype=int64)"
      ]
     },
     "execution_count": 26,
     "metadata": {},
     "output_type": "execute_result"
    }
   ],
   "source": [
    "df.is_in_yandex.unique()"
   ]
  },
  {
   "cell_type": "markdown",
   "id": "5fe1866a",
   "metadata": {},
   "source": [
    "###### Столбец is_return ( Y - Отправление движется в направлении возврата отправителю N - иначе )"
   ]
  },
  {
   "cell_type": "code",
   "execution_count": 27,
   "id": "1c742f13",
   "metadata": {},
   "outputs": [
    {
     "data": {
      "text/plain": [
       "array(['N', 'Y'], dtype=object)"
      ]
     },
     "execution_count": 27,
     "metadata": {},
     "output_type": "execute_result"
    }
   ],
   "source": [
    "df.is_return.unique()"
   ]
  },
  {
   "cell_type": "code",
   "execution_count": 28,
   "id": "c7076bfe",
   "metadata": {},
   "outputs": [
    {
     "data": {
      "text/plain": [
       "N    5993017\n",
       "Y       6983\n",
       "Name: is_return, dtype: int64"
      ]
     },
     "execution_count": 28,
     "metadata": {},
     "output_type": "execute_result"
    }
   ],
   "source": [
    "df.is_return.value_counts()"
   ]
  },
  {
   "cell_type": "markdown",
   "id": "62161057",
   "metadata": {},
   "source": [
    "Закодируем словарем "
   ]
  },
  {
   "cell_type": "code",
   "execution_count": 29,
   "id": "c35c20aa",
   "metadata": {},
   "outputs": [],
   "source": [
    "dictIs_return = {'N':0,'Y':1}\n",
    "df.is_return = df.is_return.map(dictIs_return)"
   ]
  },
  {
   "cell_type": "markdown",
   "id": "f11d7b10",
   "metadata": {},
   "source": [
    "##### Столбец name_mfi ( Наименование вложений (указано через запятую), указывается на бирке отправления ) "
   ]
  },
  {
   "cell_type": "code",
   "execution_count": 30,
   "id": "dd3ff4c9",
   "metadata": {},
   "outputs": [
    {
     "data": {
      "text/plain": [
       "array(['Fishhook,USB', 'screen protector,Case(Q613B),case(208B40-DB)',\n",
       "       'Pendant Necklaces,Rings for Women,Necklaces', ...,\n",
       "       'shower head(4001139432488)', 'earrings(4000489893750)',\n",
       "       'Piston Rings PR-PW60-2SET(PR-PW60-2SET),Piston Rings PR-PW60-2SET(PR-PW6'],\n",
       "      dtype=object)"
      ]
     },
     "execution_count": 30,
     "metadata": {},
     "output_type": "execute_result"
    }
   ],
   "source": [
    "df.name_mfi.unique()"
   ]
  },
  {
   "cell_type": "code",
   "execution_count": 31,
   "id": "7913457a",
   "metadata": {},
   "outputs": [
    {
     "data": {
      "text/plain": [
       "0                                                                                          815434\n",
       "Mobile Phone Bags & Cases                                                                   48165\n",
       "Screen Protectors                                                                           45032\n",
       "phone case                                                                                  42696\n",
       "Phone Case                                                                                  25031\n",
       "                                                                                            ...  \n",
       "g    tube connector                                                                             1\n",
       "Air compressor safety valve(4001213037775),Check Valve,Air compressor safety valve(4001         1\n",
       "Phone case(A0012-Xiaomi-10T-Pro-,Phone case(A0012-Xiaomi-10T-Pro-DarkGreen)                     1\n",
       "Consumer electronics,Headphone sleeve,Ear pads                                                  1\n",
       "Hand Rests                                                                                      1\n",
       "Name: name_mfi, Length: 212936, dtype: int64"
      ]
     },
     "execution_count": 31,
     "metadata": {},
     "output_type": "execute_result"
    }
   ],
   "source": [
    "df.name_mfi.value_counts()"
   ]
  },
  {
   "cell_type": "markdown",
   "id": "fe7b8a09",
   "metadata": {},
   "source": [
    "Закодируем с помощью LabelEncoder"
   ]
  },
  {
   "cell_type": "code",
   "execution_count": 32,
   "id": "a456d1bb",
   "metadata": {},
   "outputs": [],
   "source": [
    "df.name_mfi = lb.fit_transform(df.name_mfi)"
   ]
  },
  {
   "cell_type": "code",
   "execution_count": 33,
   "id": "a8b43c6c",
   "metadata": {},
   "outputs": [
    {
     "data": {
      "text/plain": [
       "array([ 46654, 194484,  92224, ..., 197206, 159013,  98102])"
      ]
     },
     "execution_count": 33,
     "metadata": {},
     "output_type": "execute_result"
    }
   ],
   "source": [
    "df.name_mfi.unique()"
   ]
  },
  {
   "cell_type": "code",
   "execution_count": 34,
   "id": "7298954c",
   "metadata": {},
   "outputs": [
    {
     "data": {
      "text/plain": [
       "101       815434\n",
       "74551      48165\n",
       "108790     45032\n",
       "183628     42696\n",
       "93381      25031\n",
       "           ...  \n",
       "204612         1\n",
       "202307         1\n",
       "3307           1\n",
       "41588          1\n",
       "28219          1\n",
       "Name: name_mfi, Length: 212936, dtype: int64"
      ]
     },
     "execution_count": 34,
     "metadata": {},
     "output_type": "execute_result"
    }
   ],
   "source": [
    "df.name_mfi.value_counts()"
   ]
  },
  {
   "cell_type": "markdown",
   "id": "9a7a194f",
   "metadata": {},
   "source": [
    "#### Посмотрим данные подробней"
   ]
  },
  {
   "cell_type": "code",
   "execution_count": 35,
   "id": "6d4a426b",
   "metadata": {},
   "outputs": [
    {
     "data": {
      "text/html": [
       "<div>\n",
       "<style scoped>\n",
       "    .dataframe tbody tr th:only-of-type {\n",
       "        vertical-align: middle;\n",
       "    }\n",
       "\n",
       "    .dataframe tbody tr th {\n",
       "        vertical-align: top;\n",
       "    }\n",
       "\n",
       "    .dataframe thead th {\n",
       "        text-align: right;\n",
       "    }\n",
       "</style>\n",
       "<table border=\"1\" class=\"dataframe\">\n",
       "  <thead>\n",
       "    <tr style=\"text-align: right;\">\n",
       "      <th></th>\n",
       "      <th>id</th>\n",
       "      <th>oper_type + oper_attr</th>\n",
       "      <th>index_oper</th>\n",
       "      <th>type</th>\n",
       "      <th>priority</th>\n",
       "      <th>is_privatecategory</th>\n",
       "      <th>class</th>\n",
       "      <th>is_in_yandex</th>\n",
       "      <th>is_return</th>\n",
       "      <th>weight</th>\n",
       "      <th>mailtype</th>\n",
       "      <th>mailctg</th>\n",
       "      <th>mailrank</th>\n",
       "      <th>directctg</th>\n",
       "      <th>transport_pay</th>\n",
       "      <th>postmark</th>\n",
       "      <th>name_mfi</th>\n",
       "      <th>weight_mfi</th>\n",
       "      <th>price_mfi</th>\n",
       "      <th>dist_qty_oper_login_1</th>\n",
       "      <th>total_qty_oper_login_1</th>\n",
       "      <th>total_qty_oper_login_0</th>\n",
       "      <th>total_qty_over_index_and_type</th>\n",
       "      <th>total_qty_over_index</th>\n",
       "      <th>is_wrong_sndr_name</th>\n",
       "      <th>is_wrong_rcpn_name</th>\n",
       "      <th>is_wrong_phone_number</th>\n",
       "      <th>is_wrong_address</th>\n",
       "      <th>label</th>\n",
       "    </tr>\n",
       "  </thead>\n",
       "  <tbody>\n",
       "    <tr>\n",
       "      <th>0</th>\n",
       "      <td>6818780</td>\n",
       "      <td>26</td>\n",
       "      <td>17235</td>\n",
       "      <td>18</td>\n",
       "      <td>7503.0</td>\n",
       "      <td>1</td>\n",
       "      <td>0.0</td>\n",
       "      <td>2</td>\n",
       "      <td>0</td>\n",
       "      <td>87.0</td>\n",
       "      <td>5.0</td>\n",
       "      <td>1.0</td>\n",
       "      <td>0.0</td>\n",
       "      <td>2.0</td>\n",
       "      <td>0.00</td>\n",
       "      <td>0.0</td>\n",
       "      <td>46654</td>\n",
       "      <td>41.0</td>\n",
       "      <td>150.0</td>\n",
       "      <td>42.0</td>\n",
       "      <td>720176.0</td>\n",
       "      <td>58950.0</td>\n",
       "      <td>779126.0</td>\n",
       "      <td>8290896.0</td>\n",
       "      <td>0</td>\n",
       "      <td>0</td>\n",
       "      <td>0</td>\n",
       "      <td>0</td>\n",
       "      <td>0</td>\n",
       "    </tr>\n",
       "    <tr>\n",
       "      <th>1</th>\n",
       "      <td>9907176</td>\n",
       "      <td>20</td>\n",
       "      <td>23</td>\n",
       "      <td>4</td>\n",
       "      <td>7503.0</td>\n",
       "      <td>1</td>\n",
       "      <td>0.0</td>\n",
       "      <td>1</td>\n",
       "      <td>0</td>\n",
       "      <td>107.0</td>\n",
       "      <td>5.0</td>\n",
       "      <td>1.0</td>\n",
       "      <td>0.0</td>\n",
       "      <td>2.0</td>\n",
       "      <td>0.00</td>\n",
       "      <td>0.0</td>\n",
       "      <td>194484</td>\n",
       "      <td>68.0</td>\n",
       "      <td>400.0</td>\n",
       "      <td>914.0</td>\n",
       "      <td>48856658.0</td>\n",
       "      <td>83318932.0</td>\n",
       "      <td>132175590.0</td>\n",
       "      <td>136819803.0</td>\n",
       "      <td>0</td>\n",
       "      <td>0</td>\n",
       "      <td>0</td>\n",
       "      <td>0</td>\n",
       "      <td>0</td>\n",
       "    </tr>\n",
       "    <tr>\n",
       "      <th>2</th>\n",
       "      <td>3304275</td>\n",
       "      <td>15</td>\n",
       "      <td>16331</td>\n",
       "      <td>19</td>\n",
       "      <td>7503.0</td>\n",
       "      <td>1</td>\n",
       "      <td>0.0</td>\n",
       "      <td>2</td>\n",
       "      <td>0</td>\n",
       "      <td>50.0</td>\n",
       "      <td>5.0</td>\n",
       "      <td>1.0</td>\n",
       "      <td>0.0</td>\n",
       "      <td>2.0</td>\n",
       "      <td>0.00</td>\n",
       "      <td>0.0</td>\n",
       "      <td>92224</td>\n",
       "      <td>56.0</td>\n",
       "      <td>218.0</td>\n",
       "      <td>62.0</td>\n",
       "      <td>3246292.0</td>\n",
       "      <td>3233068.0</td>\n",
       "      <td>6479360.0</td>\n",
       "      <td>52708071.0</td>\n",
       "      <td>0</td>\n",
       "      <td>1</td>\n",
       "      <td>0</td>\n",
       "      <td>0</td>\n",
       "      <td>0</td>\n",
       "    </tr>\n",
       "    <tr>\n",
       "      <th>3</th>\n",
       "      <td>9020937</td>\n",
       "      <td>16</td>\n",
       "      <td>6325</td>\n",
       "      <td>19</td>\n",
       "      <td>7503.0</td>\n",
       "      <td>1</td>\n",
       "      <td>0.0</td>\n",
       "      <td>2</td>\n",
       "      <td>0</td>\n",
       "      <td>416.0</td>\n",
       "      <td>5.0</td>\n",
       "      <td>1.0</td>\n",
       "      <td>0.0</td>\n",
       "      <td>2.0</td>\n",
       "      <td>35.34</td>\n",
       "      <td>0.0</td>\n",
       "      <td>79671</td>\n",
       "      <td>33.0</td>\n",
       "      <td>100.0</td>\n",
       "      <td>55.0</td>\n",
       "      <td>2060928.0</td>\n",
       "      <td>653280.0</td>\n",
       "      <td>2714208.0</td>\n",
       "      <td>19562334.0</td>\n",
       "      <td>0</td>\n",
       "      <td>0</td>\n",
       "      <td>0</td>\n",
       "      <td>0</td>\n",
       "      <td>0</td>\n",
       "    </tr>\n",
       "    <tr>\n",
       "      <th>4</th>\n",
       "      <td>3082311</td>\n",
       "      <td>17</td>\n",
       "      <td>17315</td>\n",
       "      <td>18</td>\n",
       "      <td>7503.0</td>\n",
       "      <td>1</td>\n",
       "      <td>0.0</td>\n",
       "      <td>2</td>\n",
       "      <td>0</td>\n",
       "      <td>795.0</td>\n",
       "      <td>5.0</td>\n",
       "      <td>1.0</td>\n",
       "      <td>0.0</td>\n",
       "      <td>2.0</td>\n",
       "      <td>52.52</td>\n",
       "      <td>0.0</td>\n",
       "      <td>141303</td>\n",
       "      <td>716.0</td>\n",
       "      <td>1000.0</td>\n",
       "      <td>16.0</td>\n",
       "      <td>316919.0</td>\n",
       "      <td>27911.0</td>\n",
       "      <td>344830.0</td>\n",
       "      <td>4719186.0</td>\n",
       "      <td>0</td>\n",
       "      <td>0</td>\n",
       "      <td>0</td>\n",
       "      <td>0</td>\n",
       "      <td>0</td>\n",
       "    </tr>\n",
       "    <tr>\n",
       "      <th>...</th>\n",
       "      <td>...</td>\n",
       "      <td>...</td>\n",
       "      <td>...</td>\n",
       "      <td>...</td>\n",
       "      <td>...</td>\n",
       "      <td>...</td>\n",
       "      <td>...</td>\n",
       "      <td>...</td>\n",
       "      <td>...</td>\n",
       "      <td>...</td>\n",
       "      <td>...</td>\n",
       "      <td>...</td>\n",
       "      <td>...</td>\n",
       "      <td>...</td>\n",
       "      <td>...</td>\n",
       "      <td>...</td>\n",
       "      <td>...</td>\n",
       "      <td>...</td>\n",
       "      <td>...</td>\n",
       "      <td>...</td>\n",
       "      <td>...</td>\n",
       "      <td>...</td>\n",
       "      <td>...</td>\n",
       "      <td>...</td>\n",
       "      <td>...</td>\n",
       "      <td>...</td>\n",
       "      <td>...</td>\n",
       "      <td>...</td>\n",
       "      <td>...</td>\n",
       "    </tr>\n",
       "    <tr>\n",
       "      <th>5999995</th>\n",
       "      <td>9958614</td>\n",
       "      <td>19</td>\n",
       "      <td>23</td>\n",
       "      <td>4</td>\n",
       "      <td>7503.0</td>\n",
       "      <td>1</td>\n",
       "      <td>0.0</td>\n",
       "      <td>1</td>\n",
       "      <td>0</td>\n",
       "      <td>25.0</td>\n",
       "      <td>5.0</td>\n",
       "      <td>0.0</td>\n",
       "      <td>0.0</td>\n",
       "      <td>2.0</td>\n",
       "      <td>0.00</td>\n",
       "      <td>0.0</td>\n",
       "      <td>63431</td>\n",
       "      <td>24.0</td>\n",
       "      <td>100.0</td>\n",
       "      <td>1089.0</td>\n",
       "      <td>64270133.0</td>\n",
       "      <td>116432632.0</td>\n",
       "      <td>180702765.0</td>\n",
       "      <td>188407812.0</td>\n",
       "      <td>0</td>\n",
       "      <td>0</td>\n",
       "      <td>1</td>\n",
       "      <td>0</td>\n",
       "      <td>0</td>\n",
       "    </tr>\n",
       "    <tr>\n",
       "      <th>5999996</th>\n",
       "      <td>2234489</td>\n",
       "      <td>19</td>\n",
       "      <td>4697</td>\n",
       "      <td>19</td>\n",
       "      <td>7503.0</td>\n",
       "      <td>1</td>\n",
       "      <td>0.0</td>\n",
       "      <td>2</td>\n",
       "      <td>0</td>\n",
       "      <td>83.0</td>\n",
       "      <td>5.0</td>\n",
       "      <td>1.0</td>\n",
       "      <td>0.0</td>\n",
       "      <td>2.0</td>\n",
       "      <td>0.00</td>\n",
       "      <td>0.0</td>\n",
       "      <td>36730</td>\n",
       "      <td>100.0</td>\n",
       "      <td>1832.0</td>\n",
       "      <td>31.0</td>\n",
       "      <td>1767370.0</td>\n",
       "      <td>144063.0</td>\n",
       "      <td>1911433.0</td>\n",
       "      <td>15582018.0</td>\n",
       "      <td>0</td>\n",
       "      <td>0</td>\n",
       "      <td>0</td>\n",
       "      <td>0</td>\n",
       "      <td>0</td>\n",
       "    </tr>\n",
       "    <tr>\n",
       "      <th>5999997</th>\n",
       "      <td>4304572</td>\n",
       "      <td>24</td>\n",
       "      <td>18</td>\n",
       "      <td>19</td>\n",
       "      <td>7506.0</td>\n",
       "      <td>1</td>\n",
       "      <td>0.0</td>\n",
       "      <td>1</td>\n",
       "      <td>0</td>\n",
       "      <td>1700.0</td>\n",
       "      <td>5.0</td>\n",
       "      <td>1.0</td>\n",
       "      <td>0.0</td>\n",
       "      <td>2.0</td>\n",
       "      <td>94.09</td>\n",
       "      <td>0.0</td>\n",
       "      <td>37295</td>\n",
       "      <td>952.0</td>\n",
       "      <td>800.0</td>\n",
       "      <td>186.0</td>\n",
       "      <td>60613352.0</td>\n",
       "      <td>10648.0</td>\n",
       "      <td>60624000.0</td>\n",
       "      <td>75592387.0</td>\n",
       "      <td>0</td>\n",
       "      <td>0</td>\n",
       "      <td>0</td>\n",
       "      <td>0</td>\n",
       "      <td>0</td>\n",
       "    </tr>\n",
       "    <tr>\n",
       "      <th>5999998</th>\n",
       "      <td>6550634</td>\n",
       "      <td>15</td>\n",
       "      <td>6</td>\n",
       "      <td>19</td>\n",
       "      <td>7506.0</td>\n",
       "      <td>1</td>\n",
       "      <td>0.0</td>\n",
       "      <td>1</td>\n",
       "      <td>0</td>\n",
       "      <td>269.0</td>\n",
       "      <td>5.0</td>\n",
       "      <td>1.0</td>\n",
       "      <td>0.0</td>\n",
       "      <td>2.0</td>\n",
       "      <td>0.00</td>\n",
       "      <td>0.0</td>\n",
       "      <td>101</td>\n",
       "      <td>0.0</td>\n",
       "      <td>0.0</td>\n",
       "      <td>105.0</td>\n",
       "      <td>15091338.0</td>\n",
       "      <td>4972424.0</td>\n",
       "      <td>20063762.0</td>\n",
       "      <td>39988530.0</td>\n",
       "      <td>0</td>\n",
       "      <td>1</td>\n",
       "      <td>0</td>\n",
       "      <td>0</td>\n",
       "      <td>0</td>\n",
       "    </tr>\n",
       "    <tr>\n",
       "      <th>5999999</th>\n",
       "      <td>6423388</td>\n",
       "      <td>99</td>\n",
       "      <td>751</td>\n",
       "      <td>13</td>\n",
       "      <td>7503.0</td>\n",
       "      <td>1</td>\n",
       "      <td>4.0</td>\n",
       "      <td>2</td>\n",
       "      <td>0</td>\n",
       "      <td>41.0</td>\n",
       "      <td>5.0</td>\n",
       "      <td>1.0</td>\n",
       "      <td>0.0</td>\n",
       "      <td>2.0</td>\n",
       "      <td>0.00</td>\n",
       "      <td>0.0</td>\n",
       "      <td>62590</td>\n",
       "      <td>40.0</td>\n",
       "      <td>400.0</td>\n",
       "      <td>1.0</td>\n",
       "      <td>1541.0</td>\n",
       "      <td>353.0</td>\n",
       "      <td>1894.0</td>\n",
       "      <td>17238.0</td>\n",
       "      <td>0</td>\n",
       "      <td>0</td>\n",
       "      <td>0</td>\n",
       "      <td>0</td>\n",
       "      <td>0</td>\n",
       "    </tr>\n",
       "  </tbody>\n",
       "</table>\n",
       "<p>6000000 rows × 29 columns</p>\n",
       "</div>"
      ],
      "text/plain": [
       "              id  oper_type + oper_attr  index_oper  type  priority  \\\n",
       "0        6818780                     26       17235    18    7503.0   \n",
       "1        9907176                     20          23     4    7503.0   \n",
       "2        3304275                     15       16331    19    7503.0   \n",
       "3        9020937                     16        6325    19    7503.0   \n",
       "4        3082311                     17       17315    18    7503.0   \n",
       "...          ...                    ...         ...   ...       ...   \n",
       "5999995  9958614                     19          23     4    7503.0   \n",
       "5999996  2234489                     19        4697    19    7503.0   \n",
       "5999997  4304572                     24          18    19    7506.0   \n",
       "5999998  6550634                     15           6    19    7506.0   \n",
       "5999999  6423388                     99         751    13    7503.0   \n",
       "\n",
       "         is_privatecategory  class  is_in_yandex  is_return  weight  mailtype  \\\n",
       "0                         1    0.0             2          0    87.0       5.0   \n",
       "1                         1    0.0             1          0   107.0       5.0   \n",
       "2                         1    0.0             2          0    50.0       5.0   \n",
       "3                         1    0.0             2          0   416.0       5.0   \n",
       "4                         1    0.0             2          0   795.0       5.0   \n",
       "...                     ...    ...           ...        ...     ...       ...   \n",
       "5999995                   1    0.0             1          0    25.0       5.0   \n",
       "5999996                   1    0.0             2          0    83.0       5.0   \n",
       "5999997                   1    0.0             1          0  1700.0       5.0   \n",
       "5999998                   1    0.0             1          0   269.0       5.0   \n",
       "5999999                   1    4.0             2          0    41.0       5.0   \n",
       "\n",
       "         mailctg  mailrank  directctg  transport_pay  postmark  name_mfi  \\\n",
       "0            1.0       0.0        2.0           0.00       0.0     46654   \n",
       "1            1.0       0.0        2.0           0.00       0.0    194484   \n",
       "2            1.0       0.0        2.0           0.00       0.0     92224   \n",
       "3            1.0       0.0        2.0          35.34       0.0     79671   \n",
       "4            1.0       0.0        2.0          52.52       0.0    141303   \n",
       "...          ...       ...        ...            ...       ...       ...   \n",
       "5999995      0.0       0.0        2.0           0.00       0.0     63431   \n",
       "5999996      1.0       0.0        2.0           0.00       0.0     36730   \n",
       "5999997      1.0       0.0        2.0          94.09       0.0     37295   \n",
       "5999998      1.0       0.0        2.0           0.00       0.0       101   \n",
       "5999999      1.0       0.0        2.0           0.00       0.0     62590   \n",
       "\n",
       "         weight_mfi  price_mfi  dist_qty_oper_login_1  total_qty_oper_login_1  \\\n",
       "0              41.0      150.0                   42.0                720176.0   \n",
       "1              68.0      400.0                  914.0              48856658.0   \n",
       "2              56.0      218.0                   62.0               3246292.0   \n",
       "3              33.0      100.0                   55.0               2060928.0   \n",
       "4             716.0     1000.0                   16.0                316919.0   \n",
       "...             ...        ...                    ...                     ...   \n",
       "5999995        24.0      100.0                 1089.0              64270133.0   \n",
       "5999996       100.0     1832.0                   31.0               1767370.0   \n",
       "5999997       952.0      800.0                  186.0              60613352.0   \n",
       "5999998         0.0        0.0                  105.0              15091338.0   \n",
       "5999999        40.0      400.0                    1.0                  1541.0   \n",
       "\n",
       "         total_qty_oper_login_0  total_qty_over_index_and_type  \\\n",
       "0                       58950.0                       779126.0   \n",
       "1                    83318932.0                    132175590.0   \n",
       "2                     3233068.0                      6479360.0   \n",
       "3                      653280.0                      2714208.0   \n",
       "4                       27911.0                       344830.0   \n",
       "...                         ...                            ...   \n",
       "5999995             116432632.0                    180702765.0   \n",
       "5999996                144063.0                      1911433.0   \n",
       "5999997                 10648.0                     60624000.0   \n",
       "5999998               4972424.0                     20063762.0   \n",
       "5999999                   353.0                         1894.0   \n",
       "\n",
       "         total_qty_over_index  is_wrong_sndr_name  is_wrong_rcpn_name  \\\n",
       "0                   8290896.0                   0                   0   \n",
       "1                 136819803.0                   0                   0   \n",
       "2                  52708071.0                   0                   1   \n",
       "3                  19562334.0                   0                   0   \n",
       "4                   4719186.0                   0                   0   \n",
       "...                       ...                 ...                 ...   \n",
       "5999995           188407812.0                   0                   0   \n",
       "5999996            15582018.0                   0                   0   \n",
       "5999997            75592387.0                   0                   0   \n",
       "5999998            39988530.0                   0                   1   \n",
       "5999999               17238.0                   0                   0   \n",
       "\n",
       "         is_wrong_phone_number  is_wrong_address  label  \n",
       "0                            0                 0      0  \n",
       "1                            0                 0      0  \n",
       "2                            0                 0      0  \n",
       "3                            0                 0      0  \n",
       "4                            0                 0      0  \n",
       "...                        ...               ...    ...  \n",
       "5999995                      1                 0      0  \n",
       "5999996                      0                 0      0  \n",
       "5999997                      0                 0      0  \n",
       "5999998                      0                 0      0  \n",
       "5999999                      0                 0      0  \n",
       "\n",
       "[6000000 rows x 29 columns]"
      ]
     },
     "execution_count": 35,
     "metadata": {},
     "output_type": "execute_result"
    }
   ],
   "source": [
    "df"
   ]
  },
  {
   "cell_type": "code",
   "execution_count": 36,
   "id": "80c31ffc",
   "metadata": {},
   "outputs": [
    {
     "data": {
      "text/html": [
       "<div>\n",
       "<style scoped>\n",
       "    .dataframe tbody tr th:only-of-type {\n",
       "        vertical-align: middle;\n",
       "    }\n",
       "\n",
       "    .dataframe tbody tr th {\n",
       "        vertical-align: top;\n",
       "    }\n",
       "\n",
       "    .dataframe thead th {\n",
       "        text-align: right;\n",
       "    }\n",
       "</style>\n",
       "<table border=\"1\" class=\"dataframe\">\n",
       "  <thead>\n",
       "    <tr style=\"text-align: right;\">\n",
       "      <th></th>\n",
       "      <th>count</th>\n",
       "      <th>mean</th>\n",
       "      <th>std</th>\n",
       "      <th>min</th>\n",
       "      <th>25%</th>\n",
       "      <th>50%</th>\n",
       "      <th>75%</th>\n",
       "      <th>max</th>\n",
       "    </tr>\n",
       "  </thead>\n",
       "  <tbody>\n",
       "    <tr>\n",
       "      <th>id</th>\n",
       "      <td>6000000.0</td>\n",
       "      <td>4.999167e+06</td>\n",
       "      <td>2.886491e+06</td>\n",
       "      <td>1.0</td>\n",
       "      <td>2500126.25</td>\n",
       "      <td>4999347.5</td>\n",
       "      <td>7.498348e+06</td>\n",
       "      <td>9999999.0</td>\n",
       "    </tr>\n",
       "    <tr>\n",
       "      <th>oper_type + oper_attr</th>\n",
       "      <td>6000000.0</td>\n",
       "      <td>3.613161e+01</td>\n",
       "      <td>3.247675e+01</td>\n",
       "      <td>0.0</td>\n",
       "      <td>16.00</td>\n",
       "      <td>19.0</td>\n",
       "      <td>6.400000e+01</td>\n",
       "      <td>108.0</td>\n",
       "    </tr>\n",
       "    <tr>\n",
       "      <th>index_oper</th>\n",
       "      <td>6000000.0</td>\n",
       "      <td>4.909762e+03</td>\n",
       "      <td>6.986511e+03</td>\n",
       "      <td>0.0</td>\n",
       "      <td>23.00</td>\n",
       "      <td>27.0</td>\n",
       "      <td>1.025100e+04</td>\n",
       "      <td>22158.0</td>\n",
       "    </tr>\n",
       "    <tr>\n",
       "      <th>type</th>\n",
       "      <td>6000000.0</td>\n",
       "      <td>1.237932e+01</td>\n",
       "      <td>6.921657e+00</td>\n",
       "      <td>0.0</td>\n",
       "      <td>4.00</td>\n",
       "      <td>18.0</td>\n",
       "      <td>1.900000e+01</td>\n",
       "      <td>19.0</td>\n",
       "    </tr>\n",
       "    <tr>\n",
       "      <th>priority</th>\n",
       "      <td>6000000.0</td>\n",
       "      <td>7.499824e+03</td>\n",
       "      <td>1.751917e+02</td>\n",
       "      <td>0.0</td>\n",
       "      <td>7503.00</td>\n",
       "      <td>7503.0</td>\n",
       "      <td>7.506000e+03</td>\n",
       "      <td>7506.0</td>\n",
       "    </tr>\n",
       "    <tr>\n",
       "      <th>is_privatecategory</th>\n",
       "      <td>6000000.0</td>\n",
       "      <td>1.000023e+00</td>\n",
       "      <td>3.021037e-02</td>\n",
       "      <td>0.0</td>\n",
       "      <td>1.00</td>\n",
       "      <td>1.0</td>\n",
       "      <td>1.000000e+00</td>\n",
       "      <td>2.0</td>\n",
       "    </tr>\n",
       "    <tr>\n",
       "      <th>class</th>\n",
       "      <td>6000000.0</td>\n",
       "      <td>3.571923e-01</td>\n",
       "      <td>9.861573e-01</td>\n",
       "      <td>0.0</td>\n",
       "      <td>0.00</td>\n",
       "      <td>0.0</td>\n",
       "      <td>0.000000e+00</td>\n",
       "      <td>5.0</td>\n",
       "    </tr>\n",
       "    <tr>\n",
       "      <th>is_in_yandex</th>\n",
       "      <td>6000000.0</td>\n",
       "      <td>1.401451e+00</td>\n",
       "      <td>4.910988e-01</td>\n",
       "      <td>0.0</td>\n",
       "      <td>1.00</td>\n",
       "      <td>1.0</td>\n",
       "      <td>2.000000e+00</td>\n",
       "      <td>2.0</td>\n",
       "    </tr>\n",
       "    <tr>\n",
       "      <th>is_return</th>\n",
       "      <td>6000000.0</td>\n",
       "      <td>1.163833e-03</td>\n",
       "      <td>3.409515e-02</td>\n",
       "      <td>0.0</td>\n",
       "      <td>0.00</td>\n",
       "      <td>0.0</td>\n",
       "      <td>0.000000e+00</td>\n",
       "      <td>1.0</td>\n",
       "    </tr>\n",
       "    <tr>\n",
       "      <th>weight</th>\n",
       "      <td>6000000.0</td>\n",
       "      <td>2.399936e+02</td>\n",
       "      <td>4.504002e+02</td>\n",
       "      <td>0.0</td>\n",
       "      <td>52.00</td>\n",
       "      <td>105.0</td>\n",
       "      <td>2.640000e+02</td>\n",
       "      <td>158000.0</td>\n",
       "    </tr>\n",
       "    <tr>\n",
       "      <th>mailtype</th>\n",
       "      <td>6000000.0</td>\n",
       "      <td>4.995037e+00</td>\n",
       "      <td>1.562659e-01</td>\n",
       "      <td>0.0</td>\n",
       "      <td>5.00</td>\n",
       "      <td>5.0</td>\n",
       "      <td>5.000000e+00</td>\n",
       "      <td>9.0</td>\n",
       "    </tr>\n",
       "    <tr>\n",
       "      <th>mailctg</th>\n",
       "      <td>6000000.0</td>\n",
       "      <td>7.726733e-01</td>\n",
       "      <td>4.407572e-01</td>\n",
       "      <td>-1.0</td>\n",
       "      <td>1.00</td>\n",
       "      <td>1.0</td>\n",
       "      <td>1.000000e+00</td>\n",
       "      <td>5.0</td>\n",
       "    </tr>\n",
       "    <tr>\n",
       "      <th>mailrank</th>\n",
       "      <td>6000000.0</td>\n",
       "      <td>0.000000e+00</td>\n",
       "      <td>0.000000e+00</td>\n",
       "      <td>0.0</td>\n",
       "      <td>0.00</td>\n",
       "      <td>0.0</td>\n",
       "      <td>0.000000e+00</td>\n",
       "      <td>0.0</td>\n",
       "    </tr>\n",
       "    <tr>\n",
       "      <th>directctg</th>\n",
       "      <td>6000000.0</td>\n",
       "      <td>1.988388e+00</td>\n",
       "      <td>1.073716e-01</td>\n",
       "      <td>0.0</td>\n",
       "      <td>2.00</td>\n",
       "      <td>2.0</td>\n",
       "      <td>2.000000e+00</td>\n",
       "      <td>2.0</td>\n",
       "    </tr>\n",
       "    <tr>\n",
       "      <th>transport_pay</th>\n",
       "      <td>6000000.0</td>\n",
       "      <td>1.187661e+01</td>\n",
       "      <td>2.224794e+01</td>\n",
       "      <td>0.0</td>\n",
       "      <td>0.00</td>\n",
       "      <td>0.0</td>\n",
       "      <td>2.295000e+01</td>\n",
       "      <td>830.5</td>\n",
       "    </tr>\n",
       "    <tr>\n",
       "      <th>postmark</th>\n",
       "      <td>6000000.0</td>\n",
       "      <td>9.069800e-02</td>\n",
       "      <td>7.296577e+00</td>\n",
       "      <td>0.0</td>\n",
       "      <td>0.00</td>\n",
       "      <td>0.0</td>\n",
       "      <td>0.000000e+00</td>\n",
       "      <td>1024.0</td>\n",
       "    </tr>\n",
       "    <tr>\n",
       "      <th>name_mfi</th>\n",
       "      <td>6000000.0</td>\n",
       "      <td>9.074781e+04</td>\n",
       "      <td>6.670434e+04</td>\n",
       "      <td>0.0</td>\n",
       "      <td>28366.00</td>\n",
       "      <td>89935.0</td>\n",
       "      <td>1.462190e+05</td>\n",
       "      <td>212935.0</td>\n",
       "    </tr>\n",
       "    <tr>\n",
       "      <th>weight_mfi</th>\n",
       "      <td>6000000.0</td>\n",
       "      <td>1.236553e+02</td>\n",
       "      <td>2.084230e+02</td>\n",
       "      <td>0.0</td>\n",
       "      <td>23.00</td>\n",
       "      <td>60.0</td>\n",
       "      <td>1.230000e+02</td>\n",
       "      <td>18000.0</td>\n",
       "    </tr>\n",
       "    <tr>\n",
       "      <th>price_mfi</th>\n",
       "      <td>6000000.0</td>\n",
       "      <td>4.560945e+02</td>\n",
       "      <td>2.103291e+03</td>\n",
       "      <td>0.0</td>\n",
       "      <td>50.00</td>\n",
       "      <td>192.0</td>\n",
       "      <td>4.180000e+02</td>\n",
       "      <td>159705.0</td>\n",
       "    </tr>\n",
       "    <tr>\n",
       "      <th>dist_qty_oper_login_1</th>\n",
       "      <td>6000000.0</td>\n",
       "      <td>3.190689e+02</td>\n",
       "      <td>4.012494e+02</td>\n",
       "      <td>0.0</td>\n",
       "      <td>31.00</td>\n",
       "      <td>113.0</td>\n",
       "      <td>9.140000e+02</td>\n",
       "      <td>1142.0</td>\n",
       "    </tr>\n",
       "    <tr>\n",
       "      <th>total_qty_oper_login_1</th>\n",
       "      <td>6000000.0</td>\n",
       "      <td>2.775095e+07</td>\n",
       "      <td>2.903655e+07</td>\n",
       "      <td>0.0</td>\n",
       "      <td>1113900.00</td>\n",
       "      <td>9570832.0</td>\n",
       "      <td>5.610820e+07</td>\n",
       "      <td>141688843.0</td>\n",
       "    </tr>\n",
       "    <tr>\n",
       "      <th>total_qty_oper_login_0</th>\n",
       "      <td>6000000.0</td>\n",
       "      <td>2.898887e+07</td>\n",
       "      <td>5.334262e+07</td>\n",
       "      <td>0.0</td>\n",
       "      <td>10648.00</td>\n",
       "      <td>366471.0</td>\n",
       "      <td>8.331893e+07</td>\n",
       "      <td>415658138.0</td>\n",
       "    </tr>\n",
       "    <tr>\n",
       "      <th>total_qty_over_index_and_type</th>\n",
       "      <td>6000000.0</td>\n",
       "      <td>5.673982e+07</td>\n",
       "      <td>7.290388e+07</td>\n",
       "      <td>0.0</td>\n",
       "      <td>1673370.00</td>\n",
       "      <td>13934962.0</td>\n",
       "      <td>1.321756e+08</td>\n",
       "      <td>489738531.0</td>\n",
       "    </tr>\n",
       "    <tr>\n",
       "      <th>total_qty_over_index</th>\n",
       "      <td>6000000.0</td>\n",
       "      <td>7.178686e+07</td>\n",
       "      <td>7.509270e+07</td>\n",
       "      <td>0.0</td>\n",
       "      <td>10402044.00</td>\n",
       "      <td>52708071.0</td>\n",
       "      <td>1.368198e+08</td>\n",
       "      <td>500251125.0</td>\n",
       "    </tr>\n",
       "    <tr>\n",
       "      <th>is_wrong_sndr_name</th>\n",
       "      <td>6000000.0</td>\n",
       "      <td>2.564167e-03</td>\n",
       "      <td>5.057264e-02</td>\n",
       "      <td>0.0</td>\n",
       "      <td>0.00</td>\n",
       "      <td>0.0</td>\n",
       "      <td>0.000000e+00</td>\n",
       "      <td>1.0</td>\n",
       "    </tr>\n",
       "    <tr>\n",
       "      <th>is_wrong_rcpn_name</th>\n",
       "      <td>6000000.0</td>\n",
       "      <td>2.597737e-01</td>\n",
       "      <td>4.385104e-01</td>\n",
       "      <td>0.0</td>\n",
       "      <td>0.00</td>\n",
       "      <td>0.0</td>\n",
       "      <td>1.000000e+00</td>\n",
       "      <td>1.0</td>\n",
       "    </tr>\n",
       "    <tr>\n",
       "      <th>is_wrong_phone_number</th>\n",
       "      <td>6000000.0</td>\n",
       "      <td>1.709710e-01</td>\n",
       "      <td>3.764837e-01</td>\n",
       "      <td>0.0</td>\n",
       "      <td>0.00</td>\n",
       "      <td>0.0</td>\n",
       "      <td>0.000000e+00</td>\n",
       "      <td>1.0</td>\n",
       "    </tr>\n",
       "    <tr>\n",
       "      <th>is_wrong_address</th>\n",
       "      <td>6000000.0</td>\n",
       "      <td>1.262833e-03</td>\n",
       "      <td>3.551392e-02</td>\n",
       "      <td>0.0</td>\n",
       "      <td>0.00</td>\n",
       "      <td>0.0</td>\n",
       "      <td>0.000000e+00</td>\n",
       "      <td>1.0</td>\n",
       "    </tr>\n",
       "    <tr>\n",
       "      <th>label</th>\n",
       "      <td>6000000.0</td>\n",
       "      <td>2.849667e-02</td>\n",
       "      <td>1.663869e-01</td>\n",
       "      <td>0.0</td>\n",
       "      <td>0.00</td>\n",
       "      <td>0.0</td>\n",
       "      <td>0.000000e+00</td>\n",
       "      <td>1.0</td>\n",
       "    </tr>\n",
       "  </tbody>\n",
       "</table>\n",
       "</div>"
      ],
      "text/plain": [
       "                                   count          mean           std  min  \\\n",
       "id                             6000000.0  4.999167e+06  2.886491e+06  1.0   \n",
       "oper_type + oper_attr          6000000.0  3.613161e+01  3.247675e+01  0.0   \n",
       "index_oper                     6000000.0  4.909762e+03  6.986511e+03  0.0   \n",
       "type                           6000000.0  1.237932e+01  6.921657e+00  0.0   \n",
       "priority                       6000000.0  7.499824e+03  1.751917e+02  0.0   \n",
       "is_privatecategory             6000000.0  1.000023e+00  3.021037e-02  0.0   \n",
       "class                          6000000.0  3.571923e-01  9.861573e-01  0.0   \n",
       "is_in_yandex                   6000000.0  1.401451e+00  4.910988e-01  0.0   \n",
       "is_return                      6000000.0  1.163833e-03  3.409515e-02  0.0   \n",
       "weight                         6000000.0  2.399936e+02  4.504002e+02  0.0   \n",
       "mailtype                       6000000.0  4.995037e+00  1.562659e-01  0.0   \n",
       "mailctg                        6000000.0  7.726733e-01  4.407572e-01 -1.0   \n",
       "mailrank                       6000000.0  0.000000e+00  0.000000e+00  0.0   \n",
       "directctg                      6000000.0  1.988388e+00  1.073716e-01  0.0   \n",
       "transport_pay                  6000000.0  1.187661e+01  2.224794e+01  0.0   \n",
       "postmark                       6000000.0  9.069800e-02  7.296577e+00  0.0   \n",
       "name_mfi                       6000000.0  9.074781e+04  6.670434e+04  0.0   \n",
       "weight_mfi                     6000000.0  1.236553e+02  2.084230e+02  0.0   \n",
       "price_mfi                      6000000.0  4.560945e+02  2.103291e+03  0.0   \n",
       "dist_qty_oper_login_1          6000000.0  3.190689e+02  4.012494e+02  0.0   \n",
       "total_qty_oper_login_1         6000000.0  2.775095e+07  2.903655e+07  0.0   \n",
       "total_qty_oper_login_0         6000000.0  2.898887e+07  5.334262e+07  0.0   \n",
       "total_qty_over_index_and_type  6000000.0  5.673982e+07  7.290388e+07  0.0   \n",
       "total_qty_over_index           6000000.0  7.178686e+07  7.509270e+07  0.0   \n",
       "is_wrong_sndr_name             6000000.0  2.564167e-03  5.057264e-02  0.0   \n",
       "is_wrong_rcpn_name             6000000.0  2.597737e-01  4.385104e-01  0.0   \n",
       "is_wrong_phone_number          6000000.0  1.709710e-01  3.764837e-01  0.0   \n",
       "is_wrong_address               6000000.0  1.262833e-03  3.551392e-02  0.0   \n",
       "label                          6000000.0  2.849667e-02  1.663869e-01  0.0   \n",
       "\n",
       "                                       25%         50%           75%  \\\n",
       "id                              2500126.25   4999347.5  7.498348e+06   \n",
       "oper_type + oper_attr                16.00        19.0  6.400000e+01   \n",
       "index_oper                           23.00        27.0  1.025100e+04   \n",
       "type                                  4.00        18.0  1.900000e+01   \n",
       "priority                           7503.00      7503.0  7.506000e+03   \n",
       "is_privatecategory                    1.00         1.0  1.000000e+00   \n",
       "class                                 0.00         0.0  0.000000e+00   \n",
       "is_in_yandex                          1.00         1.0  2.000000e+00   \n",
       "is_return                             0.00         0.0  0.000000e+00   \n",
       "weight                               52.00       105.0  2.640000e+02   \n",
       "mailtype                              5.00         5.0  5.000000e+00   \n",
       "mailctg                               1.00         1.0  1.000000e+00   \n",
       "mailrank                              0.00         0.0  0.000000e+00   \n",
       "directctg                             2.00         2.0  2.000000e+00   \n",
       "transport_pay                         0.00         0.0  2.295000e+01   \n",
       "postmark                              0.00         0.0  0.000000e+00   \n",
       "name_mfi                          28366.00     89935.0  1.462190e+05   \n",
       "weight_mfi                           23.00        60.0  1.230000e+02   \n",
       "price_mfi                            50.00       192.0  4.180000e+02   \n",
       "dist_qty_oper_login_1                31.00       113.0  9.140000e+02   \n",
       "total_qty_oper_login_1          1113900.00   9570832.0  5.610820e+07   \n",
       "total_qty_oper_login_0            10648.00    366471.0  8.331893e+07   \n",
       "total_qty_over_index_and_type   1673370.00  13934962.0  1.321756e+08   \n",
       "total_qty_over_index           10402044.00  52708071.0  1.368198e+08   \n",
       "is_wrong_sndr_name                    0.00         0.0  0.000000e+00   \n",
       "is_wrong_rcpn_name                    0.00         0.0  1.000000e+00   \n",
       "is_wrong_phone_number                 0.00         0.0  0.000000e+00   \n",
       "is_wrong_address                      0.00         0.0  0.000000e+00   \n",
       "label                                 0.00         0.0  0.000000e+00   \n",
       "\n",
       "                                       max  \n",
       "id                               9999999.0  \n",
       "oper_type + oper_attr                108.0  \n",
       "index_oper                         22158.0  \n",
       "type                                  19.0  \n",
       "priority                            7506.0  \n",
       "is_privatecategory                     2.0  \n",
       "class                                  5.0  \n",
       "is_in_yandex                           2.0  \n",
       "is_return                              1.0  \n",
       "weight                            158000.0  \n",
       "mailtype                               9.0  \n",
       "mailctg                                5.0  \n",
       "mailrank                               0.0  \n",
       "directctg                              2.0  \n",
       "transport_pay                        830.5  \n",
       "postmark                            1024.0  \n",
       "name_mfi                          212935.0  \n",
       "weight_mfi                         18000.0  \n",
       "price_mfi                         159705.0  \n",
       "dist_qty_oper_login_1               1142.0  \n",
       "total_qty_oper_login_1         141688843.0  \n",
       "total_qty_oper_login_0         415658138.0  \n",
       "total_qty_over_index_and_type  489738531.0  \n",
       "total_qty_over_index           500251125.0  \n",
       "is_wrong_sndr_name                     1.0  \n",
       "is_wrong_rcpn_name                     1.0  \n",
       "is_wrong_phone_number                  1.0  \n",
       "is_wrong_address                       1.0  \n",
       "label                                  1.0  "
      ]
     },
     "execution_count": 36,
     "metadata": {},
     "output_type": "execute_result"
    }
   ],
   "source": [
    "df.describe().T"
   ]
  },
  {
   "cell_type": "markdown",
   "id": "e7c08cb3",
   "metadata": {},
   "source": [
    "Посмотрим столбец mailrank"
   ]
  },
  {
   "cell_type": "code",
   "execution_count": 37,
   "id": "6090de10",
   "metadata": {},
   "outputs": [
    {
     "data": {
      "text/plain": [
       "array([0.])"
      ]
     },
     "execution_count": 37,
     "metadata": {},
     "output_type": "execute_result"
    }
   ],
   "source": [
    "df.mailrank.unique()"
   ]
  },
  {
   "cell_type": "markdown",
   "id": "67c2d77e",
   "metadata": {},
   "source": [
    "Код разряда почтового отправления"
   ]
  },
  {
   "cell_type": "markdown",
   "id": "3fb4cbd1",
   "metadata": {},
   "source": [
    "Скорей всего это бесплолезный столбец\n",
    "- Удалим его "
   ]
  },
  {
   "cell_type": "code",
   "execution_count": 38,
   "id": "eacaf5a2",
   "metadata": {},
   "outputs": [],
   "source": [
    "df = df.drop('mailrank',axis=1)"
   ]
  },
  {
   "cell_type": "code",
   "execution_count": 39,
   "id": "6ba3125b",
   "metadata": {},
   "outputs": [
    {
     "data": {
      "text/html": [
       "<div>\n",
       "<style scoped>\n",
       "    .dataframe tbody tr th:only-of-type {\n",
       "        vertical-align: middle;\n",
       "    }\n",
       "\n",
       "    .dataframe tbody tr th {\n",
       "        vertical-align: top;\n",
       "    }\n",
       "\n",
       "    .dataframe thead th {\n",
       "        text-align: right;\n",
       "    }\n",
       "</style>\n",
       "<table border=\"1\" class=\"dataframe\">\n",
       "  <thead>\n",
       "    <tr style=\"text-align: right;\">\n",
       "      <th></th>\n",
       "      <th>id</th>\n",
       "      <th>oper_type + oper_attr</th>\n",
       "      <th>index_oper</th>\n",
       "      <th>type</th>\n",
       "      <th>priority</th>\n",
       "      <th>is_privatecategory</th>\n",
       "      <th>class</th>\n",
       "      <th>is_in_yandex</th>\n",
       "      <th>is_return</th>\n",
       "      <th>weight</th>\n",
       "      <th>mailtype</th>\n",
       "      <th>mailctg</th>\n",
       "      <th>directctg</th>\n",
       "      <th>transport_pay</th>\n",
       "      <th>postmark</th>\n",
       "      <th>name_mfi</th>\n",
       "      <th>weight_mfi</th>\n",
       "      <th>price_mfi</th>\n",
       "      <th>dist_qty_oper_login_1</th>\n",
       "      <th>total_qty_oper_login_1</th>\n",
       "      <th>total_qty_oper_login_0</th>\n",
       "      <th>total_qty_over_index_and_type</th>\n",
       "      <th>total_qty_over_index</th>\n",
       "      <th>is_wrong_sndr_name</th>\n",
       "      <th>is_wrong_rcpn_name</th>\n",
       "      <th>is_wrong_phone_number</th>\n",
       "      <th>is_wrong_address</th>\n",
       "      <th>label</th>\n",
       "    </tr>\n",
       "  </thead>\n",
       "  <tbody>\n",
       "    <tr>\n",
       "      <th>0</th>\n",
       "      <td>6818780</td>\n",
       "      <td>26</td>\n",
       "      <td>17235</td>\n",
       "      <td>18</td>\n",
       "      <td>7503.0</td>\n",
       "      <td>1</td>\n",
       "      <td>0.0</td>\n",
       "      <td>2</td>\n",
       "      <td>0</td>\n",
       "      <td>87.0</td>\n",
       "      <td>5.0</td>\n",
       "      <td>1.0</td>\n",
       "      <td>2.0</td>\n",
       "      <td>0.00</td>\n",
       "      <td>0.0</td>\n",
       "      <td>46654</td>\n",
       "      <td>41.0</td>\n",
       "      <td>150.0</td>\n",
       "      <td>42.0</td>\n",
       "      <td>720176.0</td>\n",
       "      <td>58950.0</td>\n",
       "      <td>779126.0</td>\n",
       "      <td>8290896.0</td>\n",
       "      <td>0</td>\n",
       "      <td>0</td>\n",
       "      <td>0</td>\n",
       "      <td>0</td>\n",
       "      <td>0</td>\n",
       "    </tr>\n",
       "    <tr>\n",
       "      <th>1</th>\n",
       "      <td>9907176</td>\n",
       "      <td>20</td>\n",
       "      <td>23</td>\n",
       "      <td>4</td>\n",
       "      <td>7503.0</td>\n",
       "      <td>1</td>\n",
       "      <td>0.0</td>\n",
       "      <td>1</td>\n",
       "      <td>0</td>\n",
       "      <td>107.0</td>\n",
       "      <td>5.0</td>\n",
       "      <td>1.0</td>\n",
       "      <td>2.0</td>\n",
       "      <td>0.00</td>\n",
       "      <td>0.0</td>\n",
       "      <td>194484</td>\n",
       "      <td>68.0</td>\n",
       "      <td>400.0</td>\n",
       "      <td>914.0</td>\n",
       "      <td>48856658.0</td>\n",
       "      <td>83318932.0</td>\n",
       "      <td>132175590.0</td>\n",
       "      <td>136819803.0</td>\n",
       "      <td>0</td>\n",
       "      <td>0</td>\n",
       "      <td>0</td>\n",
       "      <td>0</td>\n",
       "      <td>0</td>\n",
       "    </tr>\n",
       "    <tr>\n",
       "      <th>2</th>\n",
       "      <td>3304275</td>\n",
       "      <td>15</td>\n",
       "      <td>16331</td>\n",
       "      <td>19</td>\n",
       "      <td>7503.0</td>\n",
       "      <td>1</td>\n",
       "      <td>0.0</td>\n",
       "      <td>2</td>\n",
       "      <td>0</td>\n",
       "      <td>50.0</td>\n",
       "      <td>5.0</td>\n",
       "      <td>1.0</td>\n",
       "      <td>2.0</td>\n",
       "      <td>0.00</td>\n",
       "      <td>0.0</td>\n",
       "      <td>92224</td>\n",
       "      <td>56.0</td>\n",
       "      <td>218.0</td>\n",
       "      <td>62.0</td>\n",
       "      <td>3246292.0</td>\n",
       "      <td>3233068.0</td>\n",
       "      <td>6479360.0</td>\n",
       "      <td>52708071.0</td>\n",
       "      <td>0</td>\n",
       "      <td>1</td>\n",
       "      <td>0</td>\n",
       "      <td>0</td>\n",
       "      <td>0</td>\n",
       "    </tr>\n",
       "    <tr>\n",
       "      <th>3</th>\n",
       "      <td>9020937</td>\n",
       "      <td>16</td>\n",
       "      <td>6325</td>\n",
       "      <td>19</td>\n",
       "      <td>7503.0</td>\n",
       "      <td>1</td>\n",
       "      <td>0.0</td>\n",
       "      <td>2</td>\n",
       "      <td>0</td>\n",
       "      <td>416.0</td>\n",
       "      <td>5.0</td>\n",
       "      <td>1.0</td>\n",
       "      <td>2.0</td>\n",
       "      <td>35.34</td>\n",
       "      <td>0.0</td>\n",
       "      <td>79671</td>\n",
       "      <td>33.0</td>\n",
       "      <td>100.0</td>\n",
       "      <td>55.0</td>\n",
       "      <td>2060928.0</td>\n",
       "      <td>653280.0</td>\n",
       "      <td>2714208.0</td>\n",
       "      <td>19562334.0</td>\n",
       "      <td>0</td>\n",
       "      <td>0</td>\n",
       "      <td>0</td>\n",
       "      <td>0</td>\n",
       "      <td>0</td>\n",
       "    </tr>\n",
       "    <tr>\n",
       "      <th>4</th>\n",
       "      <td>3082311</td>\n",
       "      <td>17</td>\n",
       "      <td>17315</td>\n",
       "      <td>18</td>\n",
       "      <td>7503.0</td>\n",
       "      <td>1</td>\n",
       "      <td>0.0</td>\n",
       "      <td>2</td>\n",
       "      <td>0</td>\n",
       "      <td>795.0</td>\n",
       "      <td>5.0</td>\n",
       "      <td>1.0</td>\n",
       "      <td>2.0</td>\n",
       "      <td>52.52</td>\n",
       "      <td>0.0</td>\n",
       "      <td>141303</td>\n",
       "      <td>716.0</td>\n",
       "      <td>1000.0</td>\n",
       "      <td>16.0</td>\n",
       "      <td>316919.0</td>\n",
       "      <td>27911.0</td>\n",
       "      <td>344830.0</td>\n",
       "      <td>4719186.0</td>\n",
       "      <td>0</td>\n",
       "      <td>0</td>\n",
       "      <td>0</td>\n",
       "      <td>0</td>\n",
       "      <td>0</td>\n",
       "    </tr>\n",
       "    <tr>\n",
       "      <th>...</th>\n",
       "      <td>...</td>\n",
       "      <td>...</td>\n",
       "      <td>...</td>\n",
       "      <td>...</td>\n",
       "      <td>...</td>\n",
       "      <td>...</td>\n",
       "      <td>...</td>\n",
       "      <td>...</td>\n",
       "      <td>...</td>\n",
       "      <td>...</td>\n",
       "      <td>...</td>\n",
       "      <td>...</td>\n",
       "      <td>...</td>\n",
       "      <td>...</td>\n",
       "      <td>...</td>\n",
       "      <td>...</td>\n",
       "      <td>...</td>\n",
       "      <td>...</td>\n",
       "      <td>...</td>\n",
       "      <td>...</td>\n",
       "      <td>...</td>\n",
       "      <td>...</td>\n",
       "      <td>...</td>\n",
       "      <td>...</td>\n",
       "      <td>...</td>\n",
       "      <td>...</td>\n",
       "      <td>...</td>\n",
       "      <td>...</td>\n",
       "    </tr>\n",
       "    <tr>\n",
       "      <th>5999995</th>\n",
       "      <td>9958614</td>\n",
       "      <td>19</td>\n",
       "      <td>23</td>\n",
       "      <td>4</td>\n",
       "      <td>7503.0</td>\n",
       "      <td>1</td>\n",
       "      <td>0.0</td>\n",
       "      <td>1</td>\n",
       "      <td>0</td>\n",
       "      <td>25.0</td>\n",
       "      <td>5.0</td>\n",
       "      <td>0.0</td>\n",
       "      <td>2.0</td>\n",
       "      <td>0.00</td>\n",
       "      <td>0.0</td>\n",
       "      <td>63431</td>\n",
       "      <td>24.0</td>\n",
       "      <td>100.0</td>\n",
       "      <td>1089.0</td>\n",
       "      <td>64270133.0</td>\n",
       "      <td>116432632.0</td>\n",
       "      <td>180702765.0</td>\n",
       "      <td>188407812.0</td>\n",
       "      <td>0</td>\n",
       "      <td>0</td>\n",
       "      <td>1</td>\n",
       "      <td>0</td>\n",
       "      <td>0</td>\n",
       "    </tr>\n",
       "    <tr>\n",
       "      <th>5999996</th>\n",
       "      <td>2234489</td>\n",
       "      <td>19</td>\n",
       "      <td>4697</td>\n",
       "      <td>19</td>\n",
       "      <td>7503.0</td>\n",
       "      <td>1</td>\n",
       "      <td>0.0</td>\n",
       "      <td>2</td>\n",
       "      <td>0</td>\n",
       "      <td>83.0</td>\n",
       "      <td>5.0</td>\n",
       "      <td>1.0</td>\n",
       "      <td>2.0</td>\n",
       "      <td>0.00</td>\n",
       "      <td>0.0</td>\n",
       "      <td>36730</td>\n",
       "      <td>100.0</td>\n",
       "      <td>1832.0</td>\n",
       "      <td>31.0</td>\n",
       "      <td>1767370.0</td>\n",
       "      <td>144063.0</td>\n",
       "      <td>1911433.0</td>\n",
       "      <td>15582018.0</td>\n",
       "      <td>0</td>\n",
       "      <td>0</td>\n",
       "      <td>0</td>\n",
       "      <td>0</td>\n",
       "      <td>0</td>\n",
       "    </tr>\n",
       "    <tr>\n",
       "      <th>5999997</th>\n",
       "      <td>4304572</td>\n",
       "      <td>24</td>\n",
       "      <td>18</td>\n",
       "      <td>19</td>\n",
       "      <td>7506.0</td>\n",
       "      <td>1</td>\n",
       "      <td>0.0</td>\n",
       "      <td>1</td>\n",
       "      <td>0</td>\n",
       "      <td>1700.0</td>\n",
       "      <td>5.0</td>\n",
       "      <td>1.0</td>\n",
       "      <td>2.0</td>\n",
       "      <td>94.09</td>\n",
       "      <td>0.0</td>\n",
       "      <td>37295</td>\n",
       "      <td>952.0</td>\n",
       "      <td>800.0</td>\n",
       "      <td>186.0</td>\n",
       "      <td>60613352.0</td>\n",
       "      <td>10648.0</td>\n",
       "      <td>60624000.0</td>\n",
       "      <td>75592387.0</td>\n",
       "      <td>0</td>\n",
       "      <td>0</td>\n",
       "      <td>0</td>\n",
       "      <td>0</td>\n",
       "      <td>0</td>\n",
       "    </tr>\n",
       "    <tr>\n",
       "      <th>5999998</th>\n",
       "      <td>6550634</td>\n",
       "      <td>15</td>\n",
       "      <td>6</td>\n",
       "      <td>19</td>\n",
       "      <td>7506.0</td>\n",
       "      <td>1</td>\n",
       "      <td>0.0</td>\n",
       "      <td>1</td>\n",
       "      <td>0</td>\n",
       "      <td>269.0</td>\n",
       "      <td>5.0</td>\n",
       "      <td>1.0</td>\n",
       "      <td>2.0</td>\n",
       "      <td>0.00</td>\n",
       "      <td>0.0</td>\n",
       "      <td>101</td>\n",
       "      <td>0.0</td>\n",
       "      <td>0.0</td>\n",
       "      <td>105.0</td>\n",
       "      <td>15091338.0</td>\n",
       "      <td>4972424.0</td>\n",
       "      <td>20063762.0</td>\n",
       "      <td>39988530.0</td>\n",
       "      <td>0</td>\n",
       "      <td>1</td>\n",
       "      <td>0</td>\n",
       "      <td>0</td>\n",
       "      <td>0</td>\n",
       "    </tr>\n",
       "    <tr>\n",
       "      <th>5999999</th>\n",
       "      <td>6423388</td>\n",
       "      <td>99</td>\n",
       "      <td>751</td>\n",
       "      <td>13</td>\n",
       "      <td>7503.0</td>\n",
       "      <td>1</td>\n",
       "      <td>4.0</td>\n",
       "      <td>2</td>\n",
       "      <td>0</td>\n",
       "      <td>41.0</td>\n",
       "      <td>5.0</td>\n",
       "      <td>1.0</td>\n",
       "      <td>2.0</td>\n",
       "      <td>0.00</td>\n",
       "      <td>0.0</td>\n",
       "      <td>62590</td>\n",
       "      <td>40.0</td>\n",
       "      <td>400.0</td>\n",
       "      <td>1.0</td>\n",
       "      <td>1541.0</td>\n",
       "      <td>353.0</td>\n",
       "      <td>1894.0</td>\n",
       "      <td>17238.0</td>\n",
       "      <td>0</td>\n",
       "      <td>0</td>\n",
       "      <td>0</td>\n",
       "      <td>0</td>\n",
       "      <td>0</td>\n",
       "    </tr>\n",
       "  </tbody>\n",
       "</table>\n",
       "<p>6000000 rows × 28 columns</p>\n",
       "</div>"
      ],
      "text/plain": [
       "              id  oper_type + oper_attr  index_oper  type  priority  \\\n",
       "0        6818780                     26       17235    18    7503.0   \n",
       "1        9907176                     20          23     4    7503.0   \n",
       "2        3304275                     15       16331    19    7503.0   \n",
       "3        9020937                     16        6325    19    7503.0   \n",
       "4        3082311                     17       17315    18    7503.0   \n",
       "...          ...                    ...         ...   ...       ...   \n",
       "5999995  9958614                     19          23     4    7503.0   \n",
       "5999996  2234489                     19        4697    19    7503.0   \n",
       "5999997  4304572                     24          18    19    7506.0   \n",
       "5999998  6550634                     15           6    19    7506.0   \n",
       "5999999  6423388                     99         751    13    7503.0   \n",
       "\n",
       "         is_privatecategory  class  is_in_yandex  is_return  weight  mailtype  \\\n",
       "0                         1    0.0             2          0    87.0       5.0   \n",
       "1                         1    0.0             1          0   107.0       5.0   \n",
       "2                         1    0.0             2          0    50.0       5.0   \n",
       "3                         1    0.0             2          0   416.0       5.0   \n",
       "4                         1    0.0             2          0   795.0       5.0   \n",
       "...                     ...    ...           ...        ...     ...       ...   \n",
       "5999995                   1    0.0             1          0    25.0       5.0   \n",
       "5999996                   1    0.0             2          0    83.0       5.0   \n",
       "5999997                   1    0.0             1          0  1700.0       5.0   \n",
       "5999998                   1    0.0             1          0   269.0       5.0   \n",
       "5999999                   1    4.0             2          0    41.0       5.0   \n",
       "\n",
       "         mailctg  directctg  transport_pay  postmark  name_mfi  weight_mfi  \\\n",
       "0            1.0        2.0           0.00       0.0     46654        41.0   \n",
       "1            1.0        2.0           0.00       0.0    194484        68.0   \n",
       "2            1.0        2.0           0.00       0.0     92224        56.0   \n",
       "3            1.0        2.0          35.34       0.0     79671        33.0   \n",
       "4            1.0        2.0          52.52       0.0    141303       716.0   \n",
       "...          ...        ...            ...       ...       ...         ...   \n",
       "5999995      0.0        2.0           0.00       0.0     63431        24.0   \n",
       "5999996      1.0        2.0           0.00       0.0     36730       100.0   \n",
       "5999997      1.0        2.0          94.09       0.0     37295       952.0   \n",
       "5999998      1.0        2.0           0.00       0.0       101         0.0   \n",
       "5999999      1.0        2.0           0.00       0.0     62590        40.0   \n",
       "\n",
       "         price_mfi  dist_qty_oper_login_1  total_qty_oper_login_1  \\\n",
       "0            150.0                   42.0                720176.0   \n",
       "1            400.0                  914.0              48856658.0   \n",
       "2            218.0                   62.0               3246292.0   \n",
       "3            100.0                   55.0               2060928.0   \n",
       "4           1000.0                   16.0                316919.0   \n",
       "...            ...                    ...                     ...   \n",
       "5999995      100.0                 1089.0              64270133.0   \n",
       "5999996     1832.0                   31.0               1767370.0   \n",
       "5999997      800.0                  186.0              60613352.0   \n",
       "5999998        0.0                  105.0              15091338.0   \n",
       "5999999      400.0                    1.0                  1541.0   \n",
       "\n",
       "         total_qty_oper_login_0  total_qty_over_index_and_type  \\\n",
       "0                       58950.0                       779126.0   \n",
       "1                    83318932.0                    132175590.0   \n",
       "2                     3233068.0                      6479360.0   \n",
       "3                      653280.0                      2714208.0   \n",
       "4                       27911.0                       344830.0   \n",
       "...                         ...                            ...   \n",
       "5999995             116432632.0                    180702765.0   \n",
       "5999996                144063.0                      1911433.0   \n",
       "5999997                 10648.0                     60624000.0   \n",
       "5999998               4972424.0                     20063762.0   \n",
       "5999999                   353.0                         1894.0   \n",
       "\n",
       "         total_qty_over_index  is_wrong_sndr_name  is_wrong_rcpn_name  \\\n",
       "0                   8290896.0                   0                   0   \n",
       "1                 136819803.0                   0                   0   \n",
       "2                  52708071.0                   0                   1   \n",
       "3                  19562334.0                   0                   0   \n",
       "4                   4719186.0                   0                   0   \n",
       "...                       ...                 ...                 ...   \n",
       "5999995           188407812.0                   0                   0   \n",
       "5999996            15582018.0                   0                   0   \n",
       "5999997            75592387.0                   0                   0   \n",
       "5999998            39988530.0                   0                   1   \n",
       "5999999               17238.0                   0                   0   \n",
       "\n",
       "         is_wrong_phone_number  is_wrong_address  label  \n",
       "0                            0                 0      0  \n",
       "1                            0                 0      0  \n",
       "2                            0                 0      0  \n",
       "3                            0                 0      0  \n",
       "4                            0                 0      0  \n",
       "...                        ...               ...    ...  \n",
       "5999995                      1                 0      0  \n",
       "5999996                      0                 0      0  \n",
       "5999997                      0                 0      0  \n",
       "5999998                      0                 0      0  \n",
       "5999999                      0                 0      0  \n",
       "\n",
       "[6000000 rows x 28 columns]"
      ]
     },
     "execution_count": 39,
     "metadata": {},
     "output_type": "execute_result"
    }
   ],
   "source": [
    "df"
   ]
  },
  {
   "cell_type": "markdown",
   "id": "aa43d278",
   "metadata": {},
   "source": [
    "#### Построим графики по сету и определим что влияет на нашу целевую переменную"
   ]
  },
  {
   "cell_type": "code",
   "execution_count": 40,
   "id": "0d3f047a",
   "metadata": {},
   "outputs": [
    {
     "data": {
      "image/png": "[encoded data removed]",
      "text/plain": [
       "<Figure size 1440x1440 with 30 Axes>"
      ]
     },
     "metadata": {
      "needs_background": "light"
     },
     "output_type": "display_data"
    }
   ],
   "source": [
    "figsize(20,20)\n",
    "df.hist();"
   ]
  },
  {
   "cell_type": "code",
   "execution_count": 41,
   "id": "f398ca34",
   "metadata": {},
   "outputs": [
    {
     "data": {
      "image/png": "[encoded data removed]",
      "text/plain": [
       "<Figure size 1440x1440 with 2 Axes>"
      ]
     },
     "metadata": {
      "needs_background": "light"
     },
     "output_type": "display_data"
    }
   ],
   "source": [
    "sns.heatmap(df.corr(),annot=True,fmt='.01f');"
   ]
  },
  {
   "cell_type": "markdown",
   "id": "7cb97271",
   "metadata": {},
   "source": [
    "По графикам делаем вывод что на целевую переменную влияют\n",
    "- is_wrong_phone_number\n",
    "- is_wrong_rcpn_name\n",
    "- total_qty_over_index\n",
    "- total_qty_over_index_and_type\n",
    "- total_qty_oper_login_0\n",
    "- total_qty_oper_login_1\n",
    "- dist_qty_oper_login_1\n",
    "- class"
   ]
  },
  {
   "cell_type": "code",
   "execution_count": 42,
   "id": "2ab91284",
   "metadata": {},
   "outputs": [],
   "source": [
    "df_for_analis = df[['is_wrong_phone_number','dist_qty_oper_login_1','class','label']]"
   ]
  },
  {
   "cell_type": "code",
   "execution_count": 43,
   "id": "42171524",
   "metadata": {},
   "outputs": [
    {
     "data": {
      "text/html": [
       "<div>\n",
       "<style scoped>\n",
       "    .dataframe tbody tr th:only-of-type {\n",
       "        vertical-align: middle;\n",
       "    }\n",
       "\n",
       "    .dataframe tbody tr th {\n",
       "        vertical-align: top;\n",
       "    }\n",
       "\n",
       "    .dataframe thead th {\n",
       "        text-align: right;\n",
       "    }\n",
       "</style>\n",
       "<table border=\"1\" class=\"dataframe\">\n",
       "  <thead>\n",
       "    <tr style=\"text-align: right;\">\n",
       "      <th></th>\n",
       "      <th>is_wrong_phone_number</th>\n",
       "      <th>dist_qty_oper_login_1</th>\n",
       "      <th>class</th>\n",
       "      <th>label</th>\n",
       "    </tr>\n",
       "  </thead>\n",
       "  <tbody>\n",
       "    <tr>\n",
       "      <th>0</th>\n",
       "      <td>0</td>\n",
       "      <td>42.0</td>\n",
       "      <td>0.0</td>\n",
       "      <td>0</td>\n",
       "    </tr>\n",
       "    <tr>\n",
       "      <th>1</th>\n",
       "      <td>0</td>\n",
       "      <td>914.0</td>\n",
       "      <td>0.0</td>\n",
       "      <td>0</td>\n",
       "    </tr>\n",
       "    <tr>\n",
       "      <th>2</th>\n",
       "      <td>0</td>\n",
       "      <td>62.0</td>\n",
       "      <td>0.0</td>\n",
       "      <td>0</td>\n",
       "    </tr>\n",
       "    <tr>\n",
       "      <th>3</th>\n",
       "      <td>0</td>\n",
       "      <td>55.0</td>\n",
       "      <td>0.0</td>\n",
       "      <td>0</td>\n",
       "    </tr>\n",
       "    <tr>\n",
       "      <th>4</th>\n",
       "      <td>0</td>\n",
       "      <td>16.0</td>\n",
       "      <td>0.0</td>\n",
       "      <td>0</td>\n",
       "    </tr>\n",
       "    <tr>\n",
       "      <th>...</th>\n",
       "      <td>...</td>\n",
       "      <td>...</td>\n",
       "      <td>...</td>\n",
       "      <td>...</td>\n",
       "    </tr>\n",
       "    <tr>\n",
       "      <th>5999995</th>\n",
       "      <td>1</td>\n",
       "      <td>1089.0</td>\n",
       "      <td>0.0</td>\n",
       "      <td>0</td>\n",
       "    </tr>\n",
       "    <tr>\n",
       "      <th>5999996</th>\n",
       "      <td>0</td>\n",
       "      <td>31.0</td>\n",
       "      <td>0.0</td>\n",
       "      <td>0</td>\n",
       "    </tr>\n",
       "    <tr>\n",
       "      <th>5999997</th>\n",
       "      <td>0</td>\n",
       "      <td>186.0</td>\n",
       "      <td>0.0</td>\n",
       "      <td>0</td>\n",
       "    </tr>\n",
       "    <tr>\n",
       "      <th>5999998</th>\n",
       "      <td>0</td>\n",
       "      <td>105.0</td>\n",
       "      <td>0.0</td>\n",
       "      <td>0</td>\n",
       "    </tr>\n",
       "    <tr>\n",
       "      <th>5999999</th>\n",
       "      <td>0</td>\n",
       "      <td>1.0</td>\n",
       "      <td>4.0</td>\n",
       "      <td>0</td>\n",
       "    </tr>\n",
       "  </tbody>\n",
       "</table>\n",
       "<p>6000000 rows × 4 columns</p>\n",
       "</div>"
      ],
      "text/plain": [
       "         is_wrong_phone_number  dist_qty_oper_login_1  class  label\n",
       "0                            0                   42.0    0.0      0\n",
       "1                            0                  914.0    0.0      0\n",
       "2                            0                   62.0    0.0      0\n",
       "3                            0                   55.0    0.0      0\n",
       "4                            0                   16.0    0.0      0\n",
       "...                        ...                    ...    ...    ...\n",
       "5999995                      1                 1089.0    0.0      0\n",
       "5999996                      0                   31.0    0.0      0\n",
       "5999997                      0                  186.0    0.0      0\n",
       "5999998                      0                  105.0    0.0      0\n",
       "5999999                      0                    1.0    4.0      0\n",
       "\n",
       "[6000000 rows x 4 columns]"
      ]
     },
     "execution_count": 43,
     "metadata": {},
     "output_type": "execute_result"
    }
   ],
   "source": [
    "df_for_analis"
   ]
  },
  {
   "cell_type": "code",
   "execution_count": 44,
   "id": "33845d5c",
   "metadata": {},
   "outputs": [
    {
     "data": {
      "image/png": "[encoded data removed]",
      "text/plain": [
       "<Figure size 1440x1440 with 4 Axes>"
      ]
     },
     "metadata": {
      "needs_background": "light"
     },
     "output_type": "display_data"
    }
   ],
   "source": [
    "df_for_analis.hist();"
   ]
  },
  {
   "cell_type": "code",
   "execution_count": 45,
   "id": "d3df35b2",
   "metadata": {},
   "outputs": [
    {
     "data": {
      "image/png": "[encoded data removed]",
      "text/plain": [
       "<Figure size 1440x1440 with 2 Axes>"
      ]
     },
     "metadata": {
      "needs_background": "light"
     },
     "output_type": "display_data"
    }
   ],
   "source": [
    "sns.heatmap(df_for_analis.corr(),annot=True,fmt='.01f');"
   ]
  },
  {
   "cell_type": "markdown",
   "id": "2d65791b",
   "metadata": {},
   "source": [
    "### Построим модель предсказания переменной label"
   ]
  },
  {
   "cell_type": "code",
   "execution_count": 46,
   "id": "ac825f73",
   "metadata": {},
   "outputs": [],
   "source": [
    "from sklearn.preprocessing import StandardScaler"
   ]
  },
  {
   "cell_type": "code",
   "execution_count": 47,
   "id": "0d3c886c",
   "metadata": {},
   "outputs": [],
   "source": [
    "scal = StandardScaler()"
   ]
  },
  {
   "cell_type": "code",
   "execution_count": 48,
   "id": "afdf5d6f",
   "metadata": {},
   "outputs": [],
   "source": [
    "df_scal = scal.fit_transform(df_for_analis.drop('label',axis=1))"
   ]
  },
  {
   "cell_type": "code",
   "execution_count": 49,
   "id": "8333ed72",
   "metadata": {},
   "outputs": [
    {
     "data": {
      "text/plain": [
       "array([[-0.454126  , -0.69051553, -0.36220629],\n",
       "       [-0.454126  ,  1.48269666, -0.36220629],\n",
       "       [-0.454126  , -0.64067122, -0.36220629],\n",
       "       ...,\n",
       "       [-0.454126  , -0.33163646, -0.36220629],\n",
       "       [-0.454126  , -0.53350594, -0.36220629],\n",
       "       [-0.454126  , -0.79269638,  3.69394227]])"
      ]
     },
     "execution_count": 49,
     "metadata": {},
     "output_type": "execute_result"
    }
   ],
   "source": [
    "df_scal"
   ]
  },
  {
   "cell_type": "code",
   "execution_count": 50,
   "id": "2f81ba98",
   "metadata": {},
   "outputs": [],
   "source": [
    "x = df_scal.copy()\n",
    "y = df.label"
   ]
  },
  {
   "cell_type": "code",
   "execution_count": 51,
   "id": "eb03e082",
   "metadata": {},
   "outputs": [
    {
     "data": {
      "text/plain": [
       "0    5829020\n",
       "1     170980\n",
       "Name: label, dtype: int64"
      ]
     },
     "execution_count": 51,
     "metadata": {},
     "output_type": "execute_result"
    }
   ],
   "source": [
    "y.value_counts()"
   ]
  },
  {
   "cell_type": "markdown",
   "id": "0692b533",
   "metadata": {},
   "source": [
    "Необходимо сбалансировать y"
   ]
  },
  {
   "cell_type": "code",
   "execution_count": 52,
   "id": "7ae8cfdd",
   "metadata": {},
   "outputs": [],
   "source": [
    "from sklearn.model_selection import train_test_split"
   ]
  },
  {
   "cell_type": "code",
   "execution_count": 85,
   "id": "77fee243",
   "metadata": {},
   "outputs": [],
   "source": [
    "x_train, x_test, y_train, y_test = train_test_split(x, y, test_size=0.3, random_state=42, stratify=y)"
   ]
  },
  {
   "cell_type": "markdown",
   "id": "ec36394c",
   "metadata": {},
   "source": [
    "### Logistic Regression"
   ]
  },
  {
   "cell_type": "code",
   "execution_count": 86,
   "id": "62568ed6",
   "metadata": {},
   "outputs": [],
   "source": [
    "from sklearn.linear_model import LogisticRegression\n",
    "from sklearn.metrics import accuracy_score, classification_report, confusion_matrix"
   ]
  },
  {
   "cell_type": "code",
   "execution_count": 87,
   "id": "5208a624",
   "metadata": {},
   "outputs": [],
   "source": [
    "logReg = LogisticRegression()"
   ]
  },
  {
   "cell_type": "code",
   "execution_count": 88,
   "id": "a9cbffcb",
   "metadata": {},
   "outputs": [
    {
     "data": {
      "text/plain": [
       "LogisticRegression()"
      ]
     },
     "execution_count": 88,
     "metadata": {},
     "output_type": "execute_result"
    }
   ],
   "source": [
    "logReg.fit(x_train,y_train)"
   ]
  },
  {
   "cell_type": "code",
   "execution_count": 89,
   "id": "f5c6a7a6",
   "metadata": {},
   "outputs": [],
   "source": [
    "y_pred = logReg.predict(x_test)"
   ]
  },
  {
   "cell_type": "code",
   "execution_count": 90,
   "id": "66a61530",
   "metadata": {},
   "outputs": [],
   "source": [
    "from sklearn import metrics"
   ]
  },
  {
   "cell_type": "code",
   "execution_count": 91,
   "id": "614819a3",
   "metadata": {},
   "outputs": [
    {
     "name": "stdout",
     "output_type": "stream",
     "text": [
      "[[1747812     894]\n",
      " [  51073     221]]\n"
     ]
    }
   ],
   "source": [
    "print(confusion_matrix(y_test,y_pred))"
   ]
  },
  {
   "cell_type": "code",
   "execution_count": 92,
   "id": "f20d4048",
   "metadata": {},
   "outputs": [
    {
     "data": {
      "text/plain": [
       "0.9711294444444445"
      ]
     },
     "execution_count": 92,
     "metadata": {},
     "output_type": "execute_result"
    }
   ],
   "source": [
    "logReg.score(x_test,y_test)"
   ]
  },
  {
   "cell_type": "code",
   "execution_count": 114,
   "id": "1ae5c85a",
   "metadata": {},
   "outputs": [],
   "source": [
    "from sklearn.tree import DecisionTreeClassifier"
   ]
  },
  {
   "cell_type": "code",
   "execution_count": 115,
   "id": "51dc1b27",
   "metadata": {},
   "outputs": [],
   "source": [
    "dtc = DecisionTreeClassifier(random_state=0)"
   ]
  },
  {
   "cell_type": "code",
   "execution_count": 116,
   "id": "828e22f9",
   "metadata": {},
   "outputs": [
    {
     "data": {
      "text/plain": [
       "DecisionTreeClassifier(random_state=0)"
      ]
     },
     "execution_count": 116,
     "metadata": {},
     "output_type": "execute_result"
    }
   ],
   "source": [
    "dtc.fit(x_train,y_train)"
   ]
  },
  {
   "cell_type": "code",
   "execution_count": 117,
   "id": "a7beebe0",
   "metadata": {},
   "outputs": [],
   "source": [
    "y_pred_dtc = dtc.predict(x_test)"
   ]
  },
  {
   "cell_type": "code",
   "execution_count": 118,
   "id": "c3d8883e",
   "metadata": {},
   "outputs": [
    {
     "data": {
      "text/plain": [
       "0.9715033333333334"
      ]
     },
     "execution_count": 118,
     "metadata": {},
     "output_type": "execute_result"
    }
   ],
   "source": [
    "dtc.score(x_test,y_test)"
   ]
  },
  {
   "cell_type": "code",
   "execution_count": 139,
   "id": "f92ae910",
   "metadata": {},
   "outputs": [],
   "source": [
    "from sklearn.naive_bayes import GaussianNB"
   ]
  },
  {
   "cell_type": "code",
   "execution_count": 140,
   "id": "02661b1a",
   "metadata": {},
   "outputs": [],
   "source": [
    "gnb = GaussianNB()"
   ]
  },
  {
   "cell_type": "code",
   "execution_count": 142,
   "id": "f30dad11",
   "metadata": {},
   "outputs": [
    {
     "data": {
      "text/plain": [
       "GaussianNB()"
      ]
     },
     "execution_count": 142,
     "metadata": {},
     "output_type": "execute_result"
    }
   ],
   "source": [
    "gnb.fit(x_train,y_train)"
   ]
  },
  {
   "cell_type": "code",
   "execution_count": 143,
   "id": "0d537050",
   "metadata": {},
   "outputs": [],
   "source": [
    "y_pred_gnb = gnb.predict(x_test)"
   ]
  },
  {
   "cell_type": "code",
   "execution_count": 144,
   "id": "9a077be4",
   "metadata": {},
   "outputs": [
    {
     "data": {
      "text/plain": [
       "0.9438955555555556"
      ]
     },
     "execution_count": 144,
     "metadata": {},
     "output_type": "execute_result"
    }
   ],
   "source": [
    "gnb.score(x_test,y_test)"
   ]
  },
  {
   "cell_type": "code",
   "execution_count": null,
   "id": "4ad8f7bf",
   "metadata": {},
   "outputs": [],
   "source": []
  },
  {
   "cell_type": "code",
   "execution_count": 145,
   "id": "47c13794",
   "metadata": {},
   "outputs": [],
   "source": [
    "df_test = pd.read_csv('test_dataset_test.csv',low_memory=False)"
   ]
  },
  {
   "cell_type": "code",
   "execution_count": 146,
   "id": "9417a37f",
   "metadata": {},
   "outputs": [
    {
     "data": {
      "text/html": [
       "<div>\n",
       "<style scoped>\n",
       "    .dataframe tbody tr th:only-of-type {\n",
       "        vertical-align: middle;\n",
       "    }\n",
       "\n",
       "    .dataframe tbody tr th {\n",
       "        vertical-align: top;\n",
       "    }\n",
       "\n",
       "    .dataframe thead th {\n",
       "        text-align: right;\n",
       "    }\n",
       "</style>\n",
       "<table border=\"1\" class=\"dataframe\">\n",
       "  <thead>\n",
       "    <tr style=\"text-align: right;\">\n",
       "      <th></th>\n",
       "      <th>id</th>\n",
       "      <th>oper_type + oper_attr</th>\n",
       "      <th>index_oper</th>\n",
       "      <th>type</th>\n",
       "      <th>priority</th>\n",
       "      <th>is_privatecategory</th>\n",
       "      <th>class</th>\n",
       "      <th>is_in_yandex</th>\n",
       "      <th>is_return</th>\n",
       "      <th>weight</th>\n",
       "      <th>mailtype</th>\n",
       "      <th>mailctg</th>\n",
       "      <th>mailrank</th>\n",
       "      <th>directctg</th>\n",
       "      <th>transport_pay</th>\n",
       "      <th>postmark</th>\n",
       "      <th>name_mfi</th>\n",
       "      <th>weight_mfi</th>\n",
       "      <th>price_mfi</th>\n",
       "      <th>dist_qty_oper_login_1</th>\n",
       "      <th>total_qty_oper_login_1</th>\n",
       "      <th>total_qty_oper_login_0</th>\n",
       "      <th>total_qty_over_index_and_type</th>\n",
       "      <th>total_qty_over_index</th>\n",
       "      <th>is_wrong_sndr_name</th>\n",
       "      <th>is_wrong_rcpn_name</th>\n",
       "      <th>is_wrong_phone_number</th>\n",
       "      <th>is_wrong_address</th>\n",
       "    </tr>\n",
       "  </thead>\n",
       "  <tbody>\n",
       "    <tr>\n",
       "      <th>0</th>\n",
       "      <td>7815282</td>\n",
       "      <td>8_13</td>\n",
       "      <td>102976</td>\n",
       "      <td>ММПО</td>\n",
       "      <td>7503.0</td>\n",
       "      <td>N</td>\n",
       "      <td>0.0</td>\n",
       "      <td>N</td>\n",
       "      <td>N</td>\n",
       "      <td>85.0</td>\n",
       "      <td>5.0</td>\n",
       "      <td>1.0</td>\n",
       "      <td>0.0</td>\n",
       "      <td>2.0</td>\n",
       "      <td>0.00</td>\n",
       "      <td>0.0</td>\n",
       "      <td>Screen Protectors,protective case</td>\n",
       "      <td>73.0</td>\n",
       "      <td>489.0</td>\n",
       "      <td>972.0</td>\n",
       "      <td>68766046.0</td>\n",
       "      <td>91123247.0</td>\n",
       "      <td>159889293.0</td>\n",
       "      <td>164927295.0</td>\n",
       "      <td>0</td>\n",
       "      <td>0</td>\n",
       "      <td>0</td>\n",
       "      <td>0</td>\n",
       "    </tr>\n",
       "    <tr>\n",
       "      <th>1</th>\n",
       "      <td>8443555</td>\n",
       "      <td>8_2</td>\n",
       "      <td>238753</td>\n",
       "      <td>ГОПС</td>\n",
       "      <td>7503.0</td>\n",
       "      <td>N</td>\n",
       "      <td>4.0</td>\n",
       "      <td>Y</td>\n",
       "      <td>N</td>\n",
       "      <td>21.0</td>\n",
       "      <td>5.0</td>\n",
       "      <td>0.0</td>\n",
       "      <td>0.0</td>\n",
       "      <td>2.0</td>\n",
       "      <td>0.00</td>\n",
       "      <td>0.0</td>\n",
       "      <td>String Iron Block</td>\n",
       "      <td>19.0</td>\n",
       "      <td>186.0</td>\n",
       "      <td>2.0</td>\n",
       "      <td>2895.0</td>\n",
       "      <td>1545.0</td>\n",
       "      <td>4440.0</td>\n",
       "      <td>20623.0</td>\n",
       "      <td>0</td>\n",
       "      <td>1</td>\n",
       "      <td>1</td>\n",
       "      <td>0</td>\n",
       "    </tr>\n",
       "    <tr>\n",
       "      <th>2</th>\n",
       "      <td>6352559</td>\n",
       "      <td>1020_-1</td>\n",
       "      <td>618254</td>\n",
       "      <td>ГОПС</td>\n",
       "      <td>7503.0</td>\n",
       "      <td>N</td>\n",
       "      <td>4.0</td>\n",
       "      <td>Y</td>\n",
       "      <td>N</td>\n",
       "      <td>388.0</td>\n",
       "      <td>5.0</td>\n",
       "      <td>1.0</td>\n",
       "      <td>0.0</td>\n",
       "      <td>2.0</td>\n",
       "      <td>34.01</td>\n",
       "      <td>0.0</td>\n",
       "      <td>Jackets</td>\n",
       "      <td>348.0</td>\n",
       "      <td>500.0</td>\n",
       "      <td>3.0</td>\n",
       "      <td>2751.0</td>\n",
       "      <td>993.0</td>\n",
       "      <td>3744.0</td>\n",
       "      <td>37817.0</td>\n",
       "      <td>0</td>\n",
       "      <td>0</td>\n",
       "      <td>0</td>\n",
       "      <td>0</td>\n",
       "    </tr>\n",
       "    <tr>\n",
       "      <th>3</th>\n",
       "      <td>4921420</td>\n",
       "      <td>1016_-1</td>\n",
       "      <td>102968</td>\n",
       "      <td>ТИ</td>\n",
       "      <td>7503.0</td>\n",
       "      <td>N</td>\n",
       "      <td>0.0</td>\n",
       "      <td>N</td>\n",
       "      <td>N</td>\n",
       "      <td>1203.0</td>\n",
       "      <td>5.0</td>\n",
       "      <td>1.0</td>\n",
       "      <td>0.0</td>\n",
       "      <td>2.0</td>\n",
       "      <td>83.72</td>\n",
       "      <td>0.0</td>\n",
       "      <td>0</td>\n",
       "      <td>0.0</td>\n",
       "      <td>0.0</td>\n",
       "      <td>69.0</td>\n",
       "      <td>9379609.0</td>\n",
       "      <td>2267333.0</td>\n",
       "      <td>11646942.0</td>\n",
       "      <td>11759329.0</td>\n",
       "      <td>0</td>\n",
       "      <td>1</td>\n",
       "      <td>0</td>\n",
       "      <td>0</td>\n",
       "    </tr>\n",
       "    <tr>\n",
       "      <th>4</th>\n",
       "      <td>1420440</td>\n",
       "      <td>1018_-1</td>\n",
       "      <td>102971</td>\n",
       "      <td>Цех</td>\n",
       "      <td>7506.0</td>\n",
       "      <td>N</td>\n",
       "      <td>0.0</td>\n",
       "      <td>N</td>\n",
       "      <td>N</td>\n",
       "      <td>956.0</td>\n",
       "      <td>5.0</td>\n",
       "      <td>1.0</td>\n",
       "      <td>0.0</td>\n",
       "      <td>2.0</td>\n",
       "      <td>14.95</td>\n",
       "      <td>0.0</td>\n",
       "      <td>Unisex Boots,Boots</td>\n",
       "      <td>946.0</td>\n",
       "      <td>1267.0</td>\n",
       "      <td>181.0</td>\n",
       "      <td>76138189.0</td>\n",
       "      <td>8747.0</td>\n",
       "      <td>76146936.0</td>\n",
       "      <td>84110459.0</td>\n",
       "      <td>0</td>\n",
       "      <td>1</td>\n",
       "      <td>0</td>\n",
       "      <td>0</td>\n",
       "    </tr>\n",
       "    <tr>\n",
       "      <th>...</th>\n",
       "      <td>...</td>\n",
       "      <td>...</td>\n",
       "      <td>...</td>\n",
       "      <td>...</td>\n",
       "      <td>...</td>\n",
       "      <td>...</td>\n",
       "      <td>...</td>\n",
       "      <td>...</td>\n",
       "      <td>...</td>\n",
       "      <td>...</td>\n",
       "      <td>...</td>\n",
       "      <td>...</td>\n",
       "      <td>...</td>\n",
       "      <td>...</td>\n",
       "      <td>...</td>\n",
       "      <td>...</td>\n",
       "      <td>...</td>\n",
       "      <td>...</td>\n",
       "      <td>...</td>\n",
       "      <td>...</td>\n",
       "      <td>...</td>\n",
       "      <td>...</td>\n",
       "      <td>...</td>\n",
       "      <td>...</td>\n",
       "      <td>...</td>\n",
       "      <td>...</td>\n",
       "      <td>...</td>\n",
       "      <td>...</td>\n",
       "    </tr>\n",
       "    <tr>\n",
       "      <th>3999995</th>\n",
       "      <td>9030800</td>\n",
       "      <td>1017_1001</td>\n",
       "      <td>655003</td>\n",
       "      <td>ГОПС</td>\n",
       "      <td>7503.0</td>\n",
       "      <td>N</td>\n",
       "      <td>4.0</td>\n",
       "      <td>Y</td>\n",
       "      <td>N</td>\n",
       "      <td>53.0</td>\n",
       "      <td>5.0</td>\n",
       "      <td>1.0</td>\n",
       "      <td>0.0</td>\n",
       "      <td>2.0</td>\n",
       "      <td>0.00</td>\n",
       "      <td>0.0</td>\n",
       "      <td>solder tool(jsd-40a),Keyboard light</td>\n",
       "      <td>61.0</td>\n",
       "      <td>262.0</td>\n",
       "      <td>3.0</td>\n",
       "      <td>4297.0</td>\n",
       "      <td>1803.0</td>\n",
       "      <td>6100.0</td>\n",
       "      <td>64613.0</td>\n",
       "      <td>0</td>\n",
       "      <td>0</td>\n",
       "      <td>0</td>\n",
       "      <td>0</td>\n",
       "    </tr>\n",
       "    <tr>\n",
       "      <th>3999996</th>\n",
       "      <td>6275048</td>\n",
       "      <td>1023_-1</td>\n",
       "      <td>102976</td>\n",
       "      <td>ММПО</td>\n",
       "      <td>7503.0</td>\n",
       "      <td>N</td>\n",
       "      <td>0.0</td>\n",
       "      <td>N</td>\n",
       "      <td>N</td>\n",
       "      <td>286.0</td>\n",
       "      <td>5.0</td>\n",
       "      <td>1.0</td>\n",
       "      <td>0.0</td>\n",
       "      <td>2.0</td>\n",
       "      <td>32.05</td>\n",
       "      <td>0.0</td>\n",
       "      <td>0</td>\n",
       "      <td>0.0</td>\n",
       "      <td>0.0</td>\n",
       "      <td>914.0</td>\n",
       "      <td>48856658.0</td>\n",
       "      <td>83318932.0</td>\n",
       "      <td>132175590.0</td>\n",
       "      <td>136819803.0</td>\n",
       "      <td>0</td>\n",
       "      <td>1</td>\n",
       "      <td>0</td>\n",
       "      <td>0</td>\n",
       "    </tr>\n",
       "    <tr>\n",
       "      <th>3999997</th>\n",
       "      <td>4701757</td>\n",
       "      <td>1022_-1</td>\n",
       "      <td>102969</td>\n",
       "      <td>ТИ</td>\n",
       "      <td>7503.0</td>\n",
       "      <td>N</td>\n",
       "      <td>0.0</td>\n",
       "      <td>N</td>\n",
       "      <td>N</td>\n",
       "      <td>733.0</td>\n",
       "      <td>5.0</td>\n",
       "      <td>1.0</td>\n",
       "      <td>0.0</td>\n",
       "      <td>2.0</td>\n",
       "      <td>49.98</td>\n",
       "      <td>0.0</td>\n",
       "      <td>Men Shoes</td>\n",
       "      <td>662.0</td>\n",
       "      <td>300.0</td>\n",
       "      <td>106.0</td>\n",
       "      <td>17348074.0</td>\n",
       "      <td>3469387.0</td>\n",
       "      <td>20817461.0</td>\n",
       "      <td>20821109.0</td>\n",
       "      <td>0</td>\n",
       "      <td>1</td>\n",
       "      <td>0</td>\n",
       "      <td>0</td>\n",
       "    </tr>\n",
       "    <tr>\n",
       "      <th>3999998</th>\n",
       "      <td>611153</td>\n",
       "      <td>39_-1</td>\n",
       "      <td>104006</td>\n",
       "      <td>Участок</td>\n",
       "      <td>7503.0</td>\n",
       "      <td>N</td>\n",
       "      <td>0.0</td>\n",
       "      <td>N</td>\n",
       "      <td>N</td>\n",
       "      <td>265.0</td>\n",
       "      <td>5.0</td>\n",
       "      <td>1.0</td>\n",
       "      <td>0.0</td>\n",
       "      <td>2.0</td>\n",
       "      <td>0.00</td>\n",
       "      <td>0.0</td>\n",
       "      <td>Dresses</td>\n",
       "      <td>247.0</td>\n",
       "      <td>500.0</td>\n",
       "      <td>2.0</td>\n",
       "      <td>15.0</td>\n",
       "      <td>13673720.0</td>\n",
       "      <td>13673735.0</td>\n",
       "      <td>14041298.0</td>\n",
       "      <td>0</td>\n",
       "      <td>0</td>\n",
       "      <td>0</td>\n",
       "      <td>0</td>\n",
       "    </tr>\n",
       "    <tr>\n",
       "      <th>3999999</th>\n",
       "      <td>7776936</td>\n",
       "      <td>14_1</td>\n",
       "      <td>102976</td>\n",
       "      <td>ММПО</td>\n",
       "      <td>7503.0</td>\n",
       "      <td>N</td>\n",
       "      <td>0.0</td>\n",
       "      <td>N</td>\n",
       "      <td>N</td>\n",
       "      <td>416.0</td>\n",
       "      <td>5.0</td>\n",
       "      <td>1.0</td>\n",
       "      <td>0.0</td>\n",
       "      <td>2.0</td>\n",
       "      <td>35.30</td>\n",
       "      <td>0.0</td>\n",
       "      <td>brooch(YSK724)</td>\n",
       "      <td>12.0</td>\n",
       "      <td>20.0</td>\n",
       "      <td>1089.0</td>\n",
       "      <td>64270133.0</td>\n",
       "      <td>116432632.0</td>\n",
       "      <td>180702765.0</td>\n",
       "      <td>188407812.0</td>\n",
       "      <td>0</td>\n",
       "      <td>0</td>\n",
       "      <td>0</td>\n",
       "      <td>0</td>\n",
       "    </tr>\n",
       "  </tbody>\n",
       "</table>\n",
       "<p>4000000 rows × 28 columns</p>\n",
       "</div>"
      ],
      "text/plain": [
       "              id oper_type + oper_attr index_oper     type  priority  \\\n",
       "0        7815282                  8_13     102976     ММПО    7503.0   \n",
       "1        8443555                   8_2     238753     ГОПС    7503.0   \n",
       "2        6352559               1020_-1     618254     ГОПС    7503.0   \n",
       "3        4921420               1016_-1     102968       ТИ    7503.0   \n",
       "4        1420440               1018_-1     102971      Цех    7506.0   \n",
       "...          ...                   ...        ...      ...       ...   \n",
       "3999995  9030800             1017_1001     655003     ГОПС    7503.0   \n",
       "3999996  6275048               1023_-1     102976     ММПО    7503.0   \n",
       "3999997  4701757               1022_-1     102969       ТИ    7503.0   \n",
       "3999998   611153                 39_-1     104006  Участок    7503.0   \n",
       "3999999  7776936                  14_1     102976     ММПО    7503.0   \n",
       "\n",
       "        is_privatecategory  class is_in_yandex is_return  weight  mailtype  \\\n",
       "0                        N    0.0            N         N    85.0       5.0   \n",
       "1                        N    4.0            Y         N    21.0       5.0   \n",
       "2                        N    4.0            Y         N   388.0       5.0   \n",
       "3                        N    0.0            N         N  1203.0       5.0   \n",
       "4                        N    0.0            N         N   956.0       5.0   \n",
       "...                    ...    ...          ...       ...     ...       ...   \n",
       "3999995                  N    4.0            Y         N    53.0       5.0   \n",
       "3999996                  N    0.0            N         N   286.0       5.0   \n",
       "3999997                  N    0.0            N         N   733.0       5.0   \n",
       "3999998                  N    0.0            N         N   265.0       5.0   \n",
       "3999999                  N    0.0            N         N   416.0       5.0   \n",
       "\n",
       "         mailctg  mailrank  directctg  transport_pay  postmark  \\\n",
       "0            1.0       0.0        2.0           0.00       0.0   \n",
       "1            0.0       0.0        2.0           0.00       0.0   \n",
       "2            1.0       0.0        2.0          34.01       0.0   \n",
       "3            1.0       0.0        2.0          83.72       0.0   \n",
       "4            1.0       0.0        2.0          14.95       0.0   \n",
       "...          ...       ...        ...            ...       ...   \n",
       "3999995      1.0       0.0        2.0           0.00       0.0   \n",
       "3999996      1.0       0.0        2.0          32.05       0.0   \n",
       "3999997      1.0       0.0        2.0          49.98       0.0   \n",
       "3999998      1.0       0.0        2.0           0.00       0.0   \n",
       "3999999      1.0       0.0        2.0          35.30       0.0   \n",
       "\n",
       "                                    name_mfi  weight_mfi  price_mfi  \\\n",
       "0          Screen Protectors,protective case        73.0      489.0   \n",
       "1                          String Iron Block        19.0      186.0   \n",
       "2                                    Jackets       348.0      500.0   \n",
       "3                                          0         0.0        0.0   \n",
       "4                         Unisex Boots,Boots       946.0     1267.0   \n",
       "...                                      ...         ...        ...   \n",
       "3999995  solder tool(jsd-40a),Keyboard light        61.0      262.0   \n",
       "3999996                                    0         0.0        0.0   \n",
       "3999997                            Men Shoes       662.0      300.0   \n",
       "3999998                              Dresses       247.0      500.0   \n",
       "3999999                       brooch(YSK724)        12.0       20.0   \n",
       "\n",
       "         dist_qty_oper_login_1  total_qty_oper_login_1  \\\n",
       "0                        972.0              68766046.0   \n",
       "1                          2.0                  2895.0   \n",
       "2                          3.0                  2751.0   \n",
       "3                         69.0               9379609.0   \n",
       "4                        181.0              76138189.0   \n",
       "...                        ...                     ...   \n",
       "3999995                    3.0                  4297.0   \n",
       "3999996                  914.0              48856658.0   \n",
       "3999997                  106.0              17348074.0   \n",
       "3999998                    2.0                    15.0   \n",
       "3999999                 1089.0              64270133.0   \n",
       "\n",
       "         total_qty_oper_login_0  total_qty_over_index_and_type  \\\n",
       "0                    91123247.0                    159889293.0   \n",
       "1                        1545.0                         4440.0   \n",
       "2                         993.0                         3744.0   \n",
       "3                     2267333.0                     11646942.0   \n",
       "4                        8747.0                     76146936.0   \n",
       "...                         ...                            ...   \n",
       "3999995                  1803.0                         6100.0   \n",
       "3999996              83318932.0                    132175590.0   \n",
       "3999997               3469387.0                     20817461.0   \n",
       "3999998              13673720.0                     13673735.0   \n",
       "3999999             116432632.0                    180702765.0   \n",
       "\n",
       "         total_qty_over_index  is_wrong_sndr_name  is_wrong_rcpn_name  \\\n",
       "0                 164927295.0                   0                   0   \n",
       "1                     20623.0                   0                   1   \n",
       "2                     37817.0                   0                   0   \n",
       "3                  11759329.0                   0                   1   \n",
       "4                  84110459.0                   0                   1   \n",
       "...                       ...                 ...                 ...   \n",
       "3999995               64613.0                   0                   0   \n",
       "3999996           136819803.0                   0                   1   \n",
       "3999997            20821109.0                   0                   1   \n",
       "3999998            14041298.0                   0                   0   \n",
       "3999999           188407812.0                   0                   0   \n",
       "\n",
       "         is_wrong_phone_number  is_wrong_address  \n",
       "0                            0                 0  \n",
       "1                            1                 0  \n",
       "2                            0                 0  \n",
       "3                            0                 0  \n",
       "4                            0                 0  \n",
       "...                        ...               ...  \n",
       "3999995                      0                 0  \n",
       "3999996                      0                 0  \n",
       "3999997                      0                 0  \n",
       "3999998                      0                 0  \n",
       "3999999                      0                 0  \n",
       "\n",
       "[4000000 rows x 28 columns]"
      ]
     },
     "execution_count": 146,
     "metadata": {},
     "output_type": "execute_result"
    }
   ],
   "source": [
    "df_test"
   ]
  },
  {
   "cell_type": "code",
   "execution_count": 147,
   "id": "2a616a8b",
   "metadata": {},
   "outputs": [
    {
     "name": "stdout",
     "output_type": "stream",
     "text": [
      "<class 'pandas.core.frame.DataFrame'>\n",
      "RangeIndex: 4000000 entries, 0 to 3999999\n",
      "Data columns (total 28 columns):\n",
      " #   Column                         Dtype  \n",
      "---  ------                         -----  \n",
      " 0   id                             int64  \n",
      " 1   oper_type + oper_attr          object \n",
      " 2   index_oper                     object \n",
      " 3   type                           object \n",
      " 4   priority                       float64\n",
      " 5   is_privatecategory             object \n",
      " 6   class                          float64\n",
      " 7   is_in_yandex                   object \n",
      " 8   is_return                      object \n",
      " 9   weight                         float64\n",
      " 10  mailtype                       float64\n",
      " 11  mailctg                        float64\n",
      " 12  mailrank                       float64\n",
      " 13  directctg                      float64\n",
      " 14  transport_pay                  float64\n",
      " 15  postmark                       float64\n",
      " 16  name_mfi                       object \n",
      " 17  weight_mfi                     float64\n",
      " 18  price_mfi                      float64\n",
      " 19  dist_qty_oper_login_1          float64\n",
      " 20  total_qty_oper_login_1         float64\n",
      " 21  total_qty_oper_login_0         float64\n",
      " 22  total_qty_over_index_and_type  float64\n",
      " 23  total_qty_over_index           float64\n",
      " 24  is_wrong_sndr_name             int64  \n",
      " 25  is_wrong_rcpn_name             int64  \n",
      " 26  is_wrong_phone_number          int64  \n",
      " 27  is_wrong_address               int64  \n",
      "dtypes: float64(16), int64(5), object(7)\n",
      "memory usage: 854.5+ MB\n"
     ]
    }
   ],
   "source": [
    "df_test.info()"
   ]
  },
  {
   "cell_type": "code",
   "execution_count": 148,
   "id": "23bf8f4a",
   "metadata": {},
   "outputs": [],
   "source": [
    "df_for_test = df_test[['is_wrong_phone_number','dist_qty_oper_login_1','class']]"
   ]
  },
  {
   "cell_type": "code",
   "execution_count": 149,
   "id": "245ae511",
   "metadata": {},
   "outputs": [
    {
     "name": "stdout",
     "output_type": "stream",
     "text": [
      "<class 'pandas.core.frame.DataFrame'>\n",
      "RangeIndex: 4000000 entries, 0 to 3999999\n",
      "Data columns (total 3 columns):\n",
      " #   Column                 Dtype  \n",
      "---  ------                 -----  \n",
      " 0   is_wrong_phone_number  int64  \n",
      " 1   dist_qty_oper_login_1  float64\n",
      " 2   class                  float64\n",
      "dtypes: float64(2), int64(1)\n",
      "memory usage: 91.6 MB\n"
     ]
    }
   ],
   "source": [
    "df_for_test.info()"
   ]
  },
  {
   "cell_type": "code",
   "execution_count": 150,
   "id": "15836b08",
   "metadata": {},
   "outputs": [
    {
     "name": "stdout",
     "output_type": "stream",
     "text": [
      "is_wrong_phone_number    0.0\n",
      "dist_qty_oper_login_1    0.0\n",
      "class                    0.0\n",
      "dtype: float64\n"
     ]
    }
   ],
   "source": [
    "print(df_for_test.isna().sum()/len(df)*100)"
   ]
  },
  {
   "cell_type": "code",
   "execution_count": 151,
   "id": "71bde514",
   "metadata": {},
   "outputs": [],
   "source": [
    "df_test_scal = scal.fit_transform(df_for_test)"
   ]
  },
  {
   "cell_type": "code",
   "execution_count": 152,
   "id": "cc8e2d23",
   "metadata": {},
   "outputs": [
    {
     "data": {
      "text/plain": [
       "array([[-0.45376351,  1.62778299, -0.3623434 ],\n",
       "       [ 2.20379115, -0.78997147,  3.6964409 ],\n",
       "       [-0.45376351, -0.78747894,  3.6964409 ],\n",
       "       ...,\n",
       "       [-0.45376351, -0.53074832, -0.3623434 ],\n",
       "       [-0.45376351, -0.78997147, -0.3623434 ],\n",
       "       [-0.45376351,  1.91940904, -0.3623434 ]])"
      ]
     },
     "execution_count": 152,
     "metadata": {},
     "output_type": "execute_result"
    }
   ],
   "source": [
    "df_test_scal"
   ]
  },
  {
   "cell_type": "code",
   "execution_count": 153,
   "id": "2dbd141f",
   "metadata": {},
   "outputs": [],
   "source": [
    "xTest = df_test_scal.copy()\n",
    "yTest = df.label"
   ]
  },
  {
   "cell_type": "code",
   "execution_count": 154,
   "id": "8aeb22e3",
   "metadata": {},
   "outputs": [
    {
     "data": {
      "text/plain": [
       "array([0, 1], dtype=int64)"
      ]
     },
     "execution_count": 154,
     "metadata": {},
     "output_type": "execute_result"
    }
   ],
   "source": [
    "yTest.unique()"
   ]
  },
  {
   "cell_type": "code",
   "execution_count": 155,
   "id": "d912647a",
   "metadata": {},
   "outputs": [
    {
     "data": {
      "text/plain": [
       "0    5829020\n",
       "1     170980\n",
       "Name: label, dtype: int64"
      ]
     },
     "execution_count": 155,
     "metadata": {},
     "output_type": "execute_result"
    }
   ],
   "source": [
    "yTest.value_counts()"
   ]
  },
  {
   "cell_type": "code",
   "execution_count": 104,
   "id": "433d4da2",
   "metadata": {},
   "outputs": [],
   "source": [
    "y_test_predict = logReg.predict(xTest)"
   ]
  },
  {
   "cell_type": "code",
   "execution_count": 130,
   "id": "9753fd67",
   "metadata": {},
   "outputs": [],
   "source": [
    "y_test_predict = dtc.predict(xTest)"
   ]
  },
  {
   "cell_type": "code",
   "execution_count": 157,
   "id": "e69df15c",
   "metadata": {},
   "outputs": [],
   "source": [
    "y_test_predict = gnb.predict(xTest)"
   ]
  },
  {
   "cell_type": "code",
   "execution_count": 158,
   "id": "ee4595a9",
   "metadata": {},
   "outputs": [
    {
     "data": {
      "text/plain": [
       "array([0, 1, 1, ..., 0, 0, 0], dtype=int64)"
      ]
     },
     "execution_count": 158,
     "metadata": {},
     "output_type": "execute_result"
    }
   ],
   "source": [
    "y_test_predict"
   ]
  },
  {
   "cell_type": "markdown",
   "id": "048ac8d9",
   "metadata": {},
   "source": [
    "from sklearn.tree import DecisionTreeClassifier"
   ]
  },
  {
   "cell_type": "markdown",
   "id": "1ead76fe",
   "metadata": {},
   "source": [
    "tree_clf = DecisionTreeClassifier(max_depth=4,random_state=42)"
   ]
  },
  {
   "cell_type": "markdown",
   "id": "1534d6da",
   "metadata": {},
   "source": [
    "tree_clf.fit(x_train,y_train)"
   ]
  },
  {
   "cell_type": "markdown",
   "id": "2b97bba9",
   "metadata": {},
   "source": [
    "y_predict_tree = tree_clf.predict(xTest)"
   ]
  },
  {
   "cell_type": "markdown",
   "id": "f620aa41",
   "metadata": {},
   "source": [
    "tree_clf.score(x_test,y_test)"
   ]
  },
  {
   "cell_type": "code",
   "execution_count": 159,
   "id": "8aeece42",
   "metadata": {},
   "outputs": [],
   "source": [
    "result = df_test[['id']]"
   ]
  },
  {
   "cell_type": "code",
   "execution_count": 160,
   "id": "89949c58",
   "metadata": {},
   "outputs": [
    {
     "data": {
      "text/html": [
       "<div>\n",
       "<style scoped>\n",
       "    .dataframe tbody tr th:only-of-type {\n",
       "        vertical-align: middle;\n",
       "    }\n",
       "\n",
       "    .dataframe tbody tr th {\n",
       "        vertical-align: top;\n",
       "    }\n",
       "\n",
       "    .dataframe thead th {\n",
       "        text-align: right;\n",
       "    }\n",
       "</style>\n",
       "<table border=\"1\" class=\"dataframe\">\n",
       "  <thead>\n",
       "    <tr style=\"text-align: right;\">\n",
       "      <th></th>\n",
       "      <th>id</th>\n",
       "    </tr>\n",
       "  </thead>\n",
       "  <tbody>\n",
       "    <tr>\n",
       "      <th>0</th>\n",
       "      <td>7815282</td>\n",
       "    </tr>\n",
       "    <tr>\n",
       "      <th>1</th>\n",
       "      <td>8443555</td>\n",
       "    </tr>\n",
       "    <tr>\n",
       "      <th>2</th>\n",
       "      <td>6352559</td>\n",
       "    </tr>\n",
       "    <tr>\n",
       "      <th>3</th>\n",
       "      <td>4921420</td>\n",
       "    </tr>\n",
       "    <tr>\n",
       "      <th>4</th>\n",
       "      <td>1420440</td>\n",
       "    </tr>\n",
       "    <tr>\n",
       "      <th>...</th>\n",
       "      <td>...</td>\n",
       "    </tr>\n",
       "    <tr>\n",
       "      <th>3999995</th>\n",
       "      <td>9030800</td>\n",
       "    </tr>\n",
       "    <tr>\n",
       "      <th>3999996</th>\n",
       "      <td>6275048</td>\n",
       "    </tr>\n",
       "    <tr>\n",
       "      <th>3999997</th>\n",
       "      <td>4701757</td>\n",
       "    </tr>\n",
       "    <tr>\n",
       "      <th>3999998</th>\n",
       "      <td>611153</td>\n",
       "    </tr>\n",
       "    <tr>\n",
       "      <th>3999999</th>\n",
       "      <td>7776936</td>\n",
       "    </tr>\n",
       "  </tbody>\n",
       "</table>\n",
       "<p>4000000 rows × 1 columns</p>\n",
       "</div>"
      ],
      "text/plain": [
       "              id\n",
       "0        7815282\n",
       "1        8443555\n",
       "2        6352559\n",
       "3        4921420\n",
       "4        1420440\n",
       "...          ...\n",
       "3999995  9030800\n",
       "3999996  6275048\n",
       "3999997  4701757\n",
       "3999998   611153\n",
       "3999999  7776936\n",
       "\n",
       "[4000000 rows x 1 columns]"
      ]
     },
     "execution_count": 160,
     "metadata": {},
     "output_type": "execute_result"
    }
   ],
   "source": [
    "result"
   ]
  },
  {
   "cell_type": "code",
   "execution_count": 161,
   "id": "77b0873f",
   "metadata": {},
   "outputs": [],
   "source": [
    "test = pd.Series(np.array(y_test_predict))"
   ]
  },
  {
   "cell_type": "code",
   "execution_count": 162,
   "id": "c594bb50",
   "metadata": {},
   "outputs": [
    {
     "data": {
      "text/plain": [
       "0          0\n",
       "1          1\n",
       "2          1\n",
       "3          0\n",
       "4          0\n",
       "          ..\n",
       "3999995    1\n",
       "3999996    0\n",
       "3999997    0\n",
       "3999998    0\n",
       "3999999    0\n",
       "Length: 4000000, dtype: int64"
      ]
     },
     "execution_count": 162,
     "metadata": {},
     "output_type": "execute_result"
    }
   ],
   "source": [
    "test"
   ]
  },
  {
   "cell_type": "code",
   "execution_count": 163,
   "id": "d95ab91b",
   "metadata": {},
   "outputs": [
    {
     "name": "stderr",
     "output_type": "stream",
     "text": [
      "<ipython-input-163-b8748badd3ca>:1: SettingWithCopyWarning: \n",
      "A value is trying to be set on a copy of a slice from a DataFrame.\n",
      "Try using .loc[row_indexer,col_indexer] = value instead\n",
      "\n",
      "See the caveats in the documentation: https://pandas.pydata.org/pandas-docs/stable/user_guide/indexing.html#returning-a-view-versus-a-copy\n",
      "  result['label'] = test\n"
     ]
    }
   ],
   "source": [
    "result['label'] = test"
   ]
  },
  {
   "cell_type": "code",
   "execution_count": 164,
   "id": "3bc45b90",
   "metadata": {},
   "outputs": [
    {
     "data": {
      "text/html": [
       "<div>\n",
       "<style scoped>\n",
       "    .dataframe tbody tr th:only-of-type {\n",
       "        vertical-align: middle;\n",
       "    }\n",
       "\n",
       "    .dataframe tbody tr th {\n",
       "        vertical-align: top;\n",
       "    }\n",
       "\n",
       "    .dataframe thead th {\n",
       "        text-align: right;\n",
       "    }\n",
       "</style>\n",
       "<table border=\"1\" class=\"dataframe\">\n",
       "  <thead>\n",
       "    <tr style=\"text-align: right;\">\n",
       "      <th></th>\n",
       "      <th>id</th>\n",
       "      <th>label</th>\n",
       "    </tr>\n",
       "  </thead>\n",
       "  <tbody>\n",
       "    <tr>\n",
       "      <th>0</th>\n",
       "      <td>7815282</td>\n",
       "      <td>0</td>\n",
       "    </tr>\n",
       "    <tr>\n",
       "      <th>1</th>\n",
       "      <td>8443555</td>\n",
       "      <td>1</td>\n",
       "    </tr>\n",
       "    <tr>\n",
       "      <th>2</th>\n",
       "      <td>6352559</td>\n",
       "      <td>1</td>\n",
       "    </tr>\n",
       "    <tr>\n",
       "      <th>3</th>\n",
       "      <td>4921420</td>\n",
       "      <td>0</td>\n",
       "    </tr>\n",
       "    <tr>\n",
       "      <th>4</th>\n",
       "      <td>1420440</td>\n",
       "      <td>0</td>\n",
       "    </tr>\n",
       "    <tr>\n",
       "      <th>...</th>\n",
       "      <td>...</td>\n",
       "      <td>...</td>\n",
       "    </tr>\n",
       "    <tr>\n",
       "      <th>3999995</th>\n",
       "      <td>9030800</td>\n",
       "      <td>1</td>\n",
       "    </tr>\n",
       "    <tr>\n",
       "      <th>3999996</th>\n",
       "      <td>6275048</td>\n",
       "      <td>0</td>\n",
       "    </tr>\n",
       "    <tr>\n",
       "      <th>3999997</th>\n",
       "      <td>4701757</td>\n",
       "      <td>0</td>\n",
       "    </tr>\n",
       "    <tr>\n",
       "      <th>3999998</th>\n",
       "      <td>611153</td>\n",
       "      <td>0</td>\n",
       "    </tr>\n",
       "    <tr>\n",
       "      <th>3999999</th>\n",
       "      <td>7776936</td>\n",
       "      <td>0</td>\n",
       "    </tr>\n",
       "  </tbody>\n",
       "</table>\n",
       "<p>4000000 rows × 2 columns</p>\n",
       "</div>"
      ],
      "text/plain": [
       "              id  label\n",
       "0        7815282      0\n",
       "1        8443555      1\n",
       "2        6352559      1\n",
       "3        4921420      0\n",
       "4        1420440      0\n",
       "...          ...    ...\n",
       "3999995  9030800      1\n",
       "3999996  6275048      0\n",
       "3999997  4701757      0\n",
       "3999998   611153      0\n",
       "3999999  7776936      0\n",
       "\n",
       "[4000000 rows x 2 columns]"
      ]
     },
     "execution_count": 164,
     "metadata": {},
     "output_type": "execute_result"
    }
   ],
   "source": [
    "result"
   ]
  },
  {
   "cell_type": "code",
   "execution_count": 165,
   "id": "c92975fd",
   "metadata": {},
   "outputs": [
    {
     "data": {
      "text/plain": [
       "0    3855041\n",
       "1     144959\n",
       "Name: label, dtype: int64"
      ]
     },
     "execution_count": 165,
     "metadata": {},
     "output_type": "execute_result"
    }
   ],
   "source": [
    "result.label.value_counts()"
   ]
  },
  {
   "cell_type": "markdown",
   "id": "83686c28",
   "metadata": {},
   "source": [
    "import pickle\n",
    "with open('result.csv','wb') as f:\n",
    "    pickle.dump(result,f)"
   ]
  },
  {
   "cell_type": "markdown",
   "id": "3128bf1e",
   "metadata": {},
   "source": [
    "\n",
    "from IPython.display import HTML\n",
    "import base64  \n",
    "import pandas as pd  \n",
    "def create_download_link( df, title = \"Download CSV file\", filename = \"final.csv\"):  \n",
    "    csv = df.to_csv(index =False)\n",
    "    b64 = base64.b64encode(csv.encode())\n",
    "    payload = b64.decode()\n",
    "    html = '<a download=\"{filename}\" href=\"data:text/csv;base64,{payload}\" target=\"_blank\">{title}</a>'\n",
    "    html = html.format(payload=payload,title=title,filename=filename)\n",
    "    return HTML(html)\n",
    "\n",
    "create_download_link(result)"
   ]
  },
  {
   "cell_type": "code",
   "execution_count": 166,
   "id": "45566185",
   "metadata": {},
   "outputs": [],
   "source": [
    "result.to_csv('finalResGNB.csv',sep=',',index=False, line_terminator='\\n')"
   ]
  },
  {
   "cell_type": "code",
   "execution_count": null,
   "id": "5d8e2d50",
   "metadata": {},
   "outputs": [],
   "source": []
  }
 ],
 "metadata": {
  "kernelspec": {
   "display_name": "Python 3",
   "language": "python",
   "name": "python3"
  },
  "language_info": {
   "codemirror_mode": {
    "name": "ipython",
    "version": 3
   },
   "file_extension": ".py",
   "mimetype": "text/x-python",
   "name": "python",
   "nbconvert_exporter": "python",
   "pygments_lexer": "ipython3",
   "version": "3.8.8"
  }
 },
 "nbformat": 4,
 "nbformat_minor": 5
}
